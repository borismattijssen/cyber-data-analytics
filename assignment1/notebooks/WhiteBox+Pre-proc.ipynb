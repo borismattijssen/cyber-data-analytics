{
 "cells": [
  {
   "cell_type": "code",
   "execution_count": 1,
   "metadata": {},
   "outputs": [],
   "source": [
    "from collections import Counter\n",
    "from sklearn.datasets import make_classification\n",
    "from sklearn.tree import DecisionTreeClassifier\n",
    "from imblearn.ensemble import BalancedBaggingClassifier\n",
    "from sklearn.model_selection import cross_val_score, train_test_split\n",
    "import numpy as np\n",
    "import pandas as pd\n",
    "import matplotlib.pyplot as plt"
   ]
  },
  {
   "cell_type": "code",
   "execution_count": 2,
   "metadata": {},
   "outputs": [
    {
     "data": {
      "text/html": [
       "<div>\n",
       "<style scoped>\n",
       "    .dataframe tbody tr th:only-of-type {\n",
       "        vertical-align: middle;\n",
       "    }\n",
       "\n",
       "    .dataframe tbody tr th {\n",
       "        vertical-align: top;\n",
       "    }\n",
       "\n",
       "    .dataframe thead th {\n",
       "        text-align: right;\n",
       "    }\n",
       "</style>\n",
       "<table border=\"1\" class=\"dataframe\">\n",
       "  <thead>\n",
       "    <tr style=\"text-align: right;\">\n",
       "      <th></th>\n",
       "      <th>issuercountry</th>\n",
       "      <th>txvariantcode</th>\n",
       "      <th>issuer_id</th>\n",
       "      <th>amount</th>\n",
       "      <th>currencycode</th>\n",
       "      <th>shoppercountry</th>\n",
       "      <th>interaction</th>\n",
       "      <th>verification</th>\n",
       "      <th>cvcresponse</th>\n",
       "      <th>creationdate_stamp</th>\n",
       "      <th>accountcode</th>\n",
       "      <th>mail_id</th>\n",
       "      <th>ip_id</th>\n",
       "      <th>card_id</th>\n",
       "      <th>label</th>\n",
       "    </tr>\n",
       "  </thead>\n",
       "  <tbody>\n",
       "    <tr>\n",
       "      <th>0</th>\n",
       "      <td>18</td>\n",
       "      <td>10</td>\n",
       "      <td>465859.0</td>\n",
       "      <td>4370.0</td>\n",
       "      <td>3</td>\n",
       "      <td>26</td>\n",
       "      <td>1</td>\n",
       "      <td>2</td>\n",
       "      <td>1</td>\n",
       "      <td>1.444255e+09</td>\n",
       "      <td>0</td>\n",
       "      <td>32318</td>\n",
       "      <td>45370</td>\n",
       "      <td>1</td>\n",
       "      <td>0</td>\n",
       "    </tr>\n",
       "    <tr>\n",
       "      <th>1</th>\n",
       "      <td>68</td>\n",
       "      <td>4</td>\n",
       "      <td>438088.0</td>\n",
       "      <td>13850.0</td>\n",
       "      <td>2</td>\n",
       "      <td>134</td>\n",
       "      <td>1</td>\n",
       "      <td>1</td>\n",
       "      <td>0</td>\n",
       "      <td>1.438942e+09</td>\n",
       "      <td>1</td>\n",
       "      <td>1567</td>\n",
       "      <td>33933</td>\n",
       "      <td>2</td>\n",
       "      <td>0</td>\n",
       "    </tr>\n",
       "    <tr>\n",
       "      <th>2</th>\n",
       "      <td>18</td>\n",
       "      <td>12</td>\n",
       "      <td>552213.0</td>\n",
       "      <td>6595.0</td>\n",
       "      <td>3</td>\n",
       "      <td>26</td>\n",
       "      <td>1</td>\n",
       "      <td>1</td>\n",
       "      <td>1</td>\n",
       "      <td>1.437858e+09</td>\n",
       "      <td>0</td>\n",
       "      <td>64936</td>\n",
       "      <td>255836</td>\n",
       "      <td>3</td>\n",
       "      <td>0</td>\n",
       "    </tr>\n",
       "    <tr>\n",
       "      <th>3</th>\n",
       "      <td>18</td>\n",
       "      <td>10</td>\n",
       "      <td>492181.0</td>\n",
       "      <td>2895.0</td>\n",
       "      <td>3</td>\n",
       "      <td>26</td>\n",
       "      <td>1</td>\n",
       "      <td>1</td>\n",
       "      <td>1</td>\n",
       "      <td>1.443369e+09</td>\n",
       "      <td>0</td>\n",
       "      <td>95340</td>\n",
       "      <td>242162</td>\n",
       "      <td>4</td>\n",
       "      <td>0</td>\n",
       "    </tr>\n",
       "    <tr>\n",
       "      <th>4</th>\n",
       "      <td>55</td>\n",
       "      <td>9</td>\n",
       "      <td>493136.0</td>\n",
       "      <td>223900.0</td>\n",
       "      <td>0</td>\n",
       "      <td>69</td>\n",
       "      <td>1</td>\n",
       "      <td>1</td>\n",
       "      <td>0</td>\n",
       "      <td>1.442077e+09</td>\n",
       "      <td>3</td>\n",
       "      <td>250940</td>\n",
       "      <td>70404</td>\n",
       "      <td>5</td>\n",
       "      <td>0</td>\n",
       "    </tr>\n",
       "  </tbody>\n",
       "</table>\n",
       "</div>"
      ],
      "text/plain": [
       "   issuercountry  txvariantcode  issuer_id    amount  currencycode  \\\n",
       "0             18             10   465859.0    4370.0             3   \n",
       "1             68              4   438088.0   13850.0             2   \n",
       "2             18             12   552213.0    6595.0             3   \n",
       "3             18             10   492181.0    2895.0             3   \n",
       "4             55              9   493136.0  223900.0             0   \n",
       "\n",
       "   shoppercountry  interaction  verification  cvcresponse  creationdate_stamp  \\\n",
       "0              26            1             2            1        1.444255e+09   \n",
       "1             134            1             1            0        1.438942e+09   \n",
       "2              26            1             1            1        1.437858e+09   \n",
       "3              26            1             1            1        1.443369e+09   \n",
       "4              69            1             1            0        1.442077e+09   \n",
       "\n",
       "   accountcode  mail_id   ip_id  card_id  label  \n",
       "0            0    32318   45370        1      0  \n",
       "1            1     1567   33933        2      0  \n",
       "2            0    64936  255836        3      0  \n",
       "3            0    95340  242162        4      0  \n",
       "4            3   250940   70404        5      0  "
      ]
     },
     "execution_count": 2,
     "metadata": {},
     "output_type": "execute_result"
    }
   ],
   "source": [
    "# data = np.loadtxt('../data/original_data.csv', delimiter=' ')\n",
    "df = pd.read_csv('../data/encoded_data.csv',sep=' ', names=['issuercountry', 'txvariantcode', 'issuer_id', 'amount', 'currencycode', 'shoppercountry', 'interaction', 'verification', 'cvcresponse', 'creationdate_stamp', 'accountcode', 'mail_id', 'ip_id', 'card_id', 'label'])\n",
    "df.head()"
   ]
  },
  {
   "cell_type": "markdown",
   "metadata": {},
   "source": [
    "## One-hot encoding"
   ]
  },
  {
   "cell_type": "code",
   "execution_count": 3,
   "metadata": {},
   "outputs": [],
   "source": [
    "df = pd.get_dummies(df, columns=[\n",
    "    'issuercountry',\n",
    "    'txvariantcode',\n",
    "    'currencycode',\n",
    "    'shoppercountry',\n",
    "    'verification',\n",
    "    'cvcresponse',\n",
    "    'accountcode'])"
   ]
  },
  {
   "cell_type": "markdown",
   "metadata": {},
   "source": [
    "## Split data and label"
   ]
  },
  {
   "cell_type": "code",
   "execution_count": 4,
   "metadata": {},
   "outputs": [
    {
     "name": "stdout",
     "output_type": "stream",
     "text": [
      "(236698, 297)\n",
      "(236698,)\n"
     ]
    }
   ],
   "source": [
    "X = np.asmatrix(df.drop(['label'], axis=1))\n",
    "y = df['label']\n",
    "print(X.shape)\n",
    "print(y.shape)"
   ]
  },
  {
   "cell_type": "markdown",
   "metadata": {},
   "source": [
    "## Normalization"
   ]
  },
  {
   "cell_type": "code",
   "execution_count": 62,
   "metadata": {},
   "outputs": [],
   "source": [
    "from sklearn import preprocessing\n",
    "min_max_scaler = preprocessing.MinMaxScaler()\n",
    "X_scaled = min_max_scaler.fit_transform(X)"
   ]
  },
  {
   "cell_type": "markdown",
   "metadata": {},
   "source": [
    "## PCA"
   ]
  },
  {
   "cell_type": "code",
   "execution_count": 11,
   "metadata": {},
   "outputs": [
    {
     "name": "stdout",
     "output_type": "stream",
     "text": [
      "(236698, 35)\n",
      "[8.80706574e-02 6.81200342e-02 6.42310460e-02 6.41851578e-02\n",
      " 6.40120317e-02 6.35637637e-02 6.31364527e-02 4.81718220e-02\n",
      " 3.21169421e-02 3.21161753e-02 3.21157327e-02 3.21152715e-02\n",
      " 3.21150584e-02 3.21133754e-02 3.21120413e-02 2.67981903e-02\n",
      " 1.60585141e-02 1.60584699e-02 1.60581531e-02 1.60579773e-02\n",
      " 1.60576182e-02 1.60574368e-02 1.60566000e-02 1.60562777e-02\n",
      " 1.60558800e-02 1.60479954e-02 1.60470463e-02 1.60369390e-02\n",
      " 1.60086075e-02 1.59647705e-02 9.95007781e-05 9.67562923e-05\n",
      " 5.89019839e-05 1.74072338e-05 1.13955520e-05]\n"
     ]
    }
   ],
   "source": [
    "from sklearn.decomposition import PCA\n",
    "pca = PCA(n_components=.95)\n",
    "X_pca = pca.fit_transform(X)\n",
    "print(X_pca.shape)\n",
    "print(pca.explained_variance_ratio_)"
   ]
  },
  {
   "cell_type": "code",
   "execution_count": 12,
   "metadata": {},
   "outputs": [
    {
     "name": "stdout",
     "output_type": "stream",
     "text": [
      "(236698, 27)\n",
      "[0.08807066 0.06812003 0.06423105 0.06418516 0.06401203 0.06356376\n",
      " 0.06313645 0.04817182 0.03211694 0.03211618 0.03211573 0.03211527\n",
      " 0.03211506 0.03211338 0.03211204 0.02679819 0.01605851 0.01605847\n",
      " 0.01605815 0.01605798 0.01605762 0.01605744 0.0160566  0.01605628\n",
      " 0.01605588 0.016048   0.01604705]\n"
     ]
    }
   ],
   "source": [
    "from sklearn.decomposition import PCA\n",
    "pca = PCA(n_components=.95)\n",
    "X_pca = pca.fit_transform(X)\n",
    "print(X_pca.shape)\n",
    "print(pca.explained_variance_ratio_)"
   ]
  },
  {
   "cell_type": "code",
   "execution_count": 17,
   "metadata": {},
   "outputs": [
    {
     "data": {
      "text/plain": [
       "<matplotlib.legend.Legend at 0x1092433d0>"
      ]
     },
     "execution_count": 17,
     "metadata": {},
     "output_type": "execute_result"
    },
    {
     "data": {
      "image/png": "[encoded data removed]",
      "text/plain": [
       "<Figure size 432x288 with 1 Axes>"
      ]
     },
     "metadata": {},
     "output_type": "display_data"
    }
   ],
   "source": [
    "plt.scatter(X_pca[y == 0, 0], X_pca[y == 0, 1], label=\"Class #0\",\n",
    "                 alpha=0.5)\n",
    "plt.scatter(X_pca[y == 1, 0], X_pca[y == 1, 1], label=\"Class #1\",\n",
    "                 alpha=0.5)\n",
    "plt.legend()"
   ]
  },
  {
   "cell_type": "markdown",
   "metadata": {},
   "source": [
    "## Classification: SMOTE + EEN -> 3-NN (10 cross-folded)"
   ]
  },
  {
   "cell_type": "code",
   "execution_count": null,
   "metadata": {},
   "outputs": [],
   "source": [
    "from imblearn.combine import SMOTEENN\n",
    "from imblearn.pipeline import make_pipeline\n",
    "from sklearn.neighbors import KNeighborsClassifier\n",
    "\n",
    "from sklearn.model_selection import cross_val_predict\n",
    "from sklearn.metrics import confusion_matrix\n",
    "\n",
    "clf = make_pipeline(SMOTEENN(random_state=0), KNeighborsClassifier(n_neighbors=5))\n",
    "y_score = cross_val_predict(clf, X_pca, y, cv=10, method='predict_proba')"
   ]
  },
  {
   "cell_type": "code",
   "execution_count": 8,
   "metadata": {},
   "outputs": [
    {
     "name": "stdout",
     "output_type": "stream",
     "text": [
      "[[232135   4218]\n",
      " [   287     58]]\n",
      "[(0, 232422), (1, 4276)]\n"
     ]
    }
   ],
   "source": [
    "from collections import Counter\n",
    "\n",
    "# print confusion matrix\n",
    "y_pred = (y_score[:,1] > 0.5).astype(int)\n",
    "print(confusion_matrix(y,y_pred))\n",
    "print(sorted(Counter(y_pred).items()))"
   ]
  },
  {
   "cell_type": "code",
   "execution_count": 10,
   "metadata": {},
   "outputs": [
    {
     "data": {
      "image/png": "[encoded data removed]",
      "text/plain": [
       "<Figure size 432x288 with 1 Axes>"
      ]
     },
     "metadata": {},
     "output_type": "display_data"
    }
   ],
   "source": [
    "from sklearn.metrics import precision_recall_curve, auc\n",
    "\n",
    "# calculate PR curve values\n",
    "prec, rec, thresholds = precision_recall_curve(y, y_score[:,1])\n",
    "\n",
    "# compute area under PR curve\n",
    "area =  auc(prec, rec)\n",
    "\n",
    "# fill area under curve\n",
    "plt.fill_between(rec, prec, step=\"mid\", alpha=0.4)\n",
    "\n",
    "# plot PR curve\n",
    "plt.step(rec, prec, where='mid', label='PR (area = {0:0.2f})'.format(area))\n",
    "plt.xlabel('Precision')\n",
    "plt.ylabel('Recall')\n",
    "plt.title('SMOTE + EEN -> 3-NN')\n",
    "plt.savefig(('pr_curve_white_box_%f' % np.random.rand()).replace('.',''), ext='png', pdi=150)"
   ]
  },
  {
   "cell_type": "code",
   "execution_count": null,
   "metadata": {},
   "outputs": [],
   "source": [
    "from imblearn.metrics import classification_report_imbalanced\n",
    "\n",
    "print(classification_report_imbalanced(y, y_pred))"
   ]
  },
  {
   "cell_type": "code",
   "execution_count": null,
   "metadata": {},
   "outputs": [],
   "source": []
  }
 ],
 "metadata": {
  "kernelspec": {
   "display_name": "Python 2",
   "language": "python",
   "name": "python2"
  },
  "language_info": {
   "codemirror_mode": {
    "name": "ipython",
    "version": 2
   },
   "file_extension": ".py",
   "mimetype": "text/x-python",
   "name": "python",
   "nbconvert_exporter": "python",
   "pygments_lexer": "ipython2",
   "version": "2.7.10"
  }
 },
 "nbformat": 4,
 "nbformat_minor": 2
}
