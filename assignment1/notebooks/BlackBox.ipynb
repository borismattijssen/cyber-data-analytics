{
 "cells": [
  {
   "cell_type": "markdown",
   "metadata": {},
   "source": [
    "# Black-box classifier\n",
    "## Imports"
   ]
  },
  {
   "cell_type": "code",
   "execution_count": 92,
   "metadata": {},
   "outputs": [],
   "source": [
    "from collections import Counter\n",
    "from sklearn.datasets import make_classification\n",
    "from sklearn.tree import DecisionTreeClassifier\n",
    "from imblearn.ensemble import BalancedBaggingClassifier\n",
    "from sklearn.model_selection import cross_val_score, train_test_split\n",
    "import numpy as np\n",
    "import pandas as pd\n",
    "import matplotlib.pyplot as plt"
   ]
  },
  {
   "cell_type": "markdown",
   "metadata": {},
   "source": [
    "## Load data"
   ]
  },
  {
   "cell_type": "code",
   "execution_count": 86,
   "metadata": {},
   "outputs": [
    {
     "data": {
      "text/html": [
       "<div>\n",
       "<style scoped>\n",
       "    .dataframe tbody tr th:only-of-type {\n",
       "        vertical-align: middle;\n",
       "    }\n",
       "\n",
       "    .dataframe tbody tr th {\n",
       "        vertical-align: top;\n",
       "    }\n",
       "\n",
       "    .dataframe thead th {\n",
       "        text-align: right;\n",
       "    }\n",
       "</style>\n",
       "<table border=\"1\" class=\"dataframe\">\n",
       "  <thead>\n",
       "    <tr style=\"text-align: right;\">\n",
       "      <th></th>\n",
       "      <th>issuercountry</th>\n",
       "      <th>txvariantcode</th>\n",
       "      <th>issuer_id</th>\n",
       "      <th>amount</th>\n",
       "      <th>currencycode</th>\n",
       "      <th>shoppercountry</th>\n",
       "      <th>interaction</th>\n",
       "      <th>verification</th>\n",
       "      <th>cvcresponse</th>\n",
       "      <th>creationdate_stamp</th>\n",
       "      <th>accountcode</th>\n",
       "      <th>mail_id</th>\n",
       "      <th>ip_id</th>\n",
       "      <th>card_id</th>\n",
       "      <th>label</th>\n",
       "    </tr>\n",
       "  </thead>\n",
       "  <tbody>\n",
       "    <tr>\n",
       "      <th>0</th>\n",
       "      <td>18</td>\n",
       "      <td>10</td>\n",
       "      <td>465859.0</td>\n",
       "      <td>4370.0</td>\n",
       "      <td>3</td>\n",
       "      <td>26</td>\n",
       "      <td>1</td>\n",
       "      <td>2</td>\n",
       "      <td>1</td>\n",
       "      <td>1.444255e+09</td>\n",
       "      <td>0</td>\n",
       "      <td>32318</td>\n",
       "      <td>45370</td>\n",
       "      <td>1</td>\n",
       "      <td>0</td>\n",
       "    </tr>\n",
       "    <tr>\n",
       "      <th>1</th>\n",
       "      <td>68</td>\n",
       "      <td>4</td>\n",
       "      <td>438088.0</td>\n",
       "      <td>13850.0</td>\n",
       "      <td>2</td>\n",
       "      <td>134</td>\n",
       "      <td>1</td>\n",
       "      <td>1</td>\n",
       "      <td>0</td>\n",
       "      <td>1.438942e+09</td>\n",
       "      <td>1</td>\n",
       "      <td>1567</td>\n",
       "      <td>33933</td>\n",
       "      <td>2</td>\n",
       "      <td>0</td>\n",
       "    </tr>\n",
       "    <tr>\n",
       "      <th>2</th>\n",
       "      <td>18</td>\n",
       "      <td>12</td>\n",
       "      <td>552213.0</td>\n",
       "      <td>6595.0</td>\n",
       "      <td>3</td>\n",
       "      <td>26</td>\n",
       "      <td>1</td>\n",
       "      <td>1</td>\n",
       "      <td>1</td>\n",
       "      <td>1.437858e+09</td>\n",
       "      <td>0</td>\n",
       "      <td>64936</td>\n",
       "      <td>255836</td>\n",
       "      <td>3</td>\n",
       "      <td>0</td>\n",
       "    </tr>\n",
       "    <tr>\n",
       "      <th>3</th>\n",
       "      <td>18</td>\n",
       "      <td>10</td>\n",
       "      <td>492181.0</td>\n",
       "      <td>2895.0</td>\n",
       "      <td>3</td>\n",
       "      <td>26</td>\n",
       "      <td>1</td>\n",
       "      <td>1</td>\n",
       "      <td>1</td>\n",
       "      <td>1.443369e+09</td>\n",
       "      <td>0</td>\n",
       "      <td>95340</td>\n",
       "      <td>242162</td>\n",
       "      <td>4</td>\n",
       "      <td>0</td>\n",
       "    </tr>\n",
       "    <tr>\n",
       "      <th>4</th>\n",
       "      <td>55</td>\n",
       "      <td>9</td>\n",
       "      <td>493136.0</td>\n",
       "      <td>223900.0</td>\n",
       "      <td>0</td>\n",
       "      <td>69</td>\n",
       "      <td>1</td>\n",
       "      <td>1</td>\n",
       "      <td>0</td>\n",
       "      <td>1.442077e+09</td>\n",
       "      <td>3</td>\n",
       "      <td>250940</td>\n",
       "      <td>70404</td>\n",
       "      <td>5</td>\n",
       "      <td>0</td>\n",
       "    </tr>\n",
       "  </tbody>\n",
       "</table>\n",
       "</div>"
      ],
      "text/plain": [
       "   issuercountry  txvariantcode  issuer_id    amount  currencycode  \\\n",
       "0             18             10   465859.0    4370.0             3   \n",
       "1             68              4   438088.0   13850.0             2   \n",
       "2             18             12   552213.0    6595.0             3   \n",
       "3             18             10   492181.0    2895.0             3   \n",
       "4             55              9   493136.0  223900.0             0   \n",
       "\n",
       "   shoppercountry  interaction  verification  cvcresponse  creationdate_stamp  \\\n",
       "0              26            1             2            1        1.444255e+09   \n",
       "1             134            1             1            0        1.438942e+09   \n",
       "2              26            1             1            1        1.437858e+09   \n",
       "3              26            1             1            1        1.443369e+09   \n",
       "4              69            1             1            0        1.442077e+09   \n",
       "\n",
       "   accountcode  mail_id   ip_id  card_id  label  \n",
       "0            0    32318   45370        1      0  \n",
       "1            1     1567   33933        2      0  \n",
       "2            0    64936  255836        3      0  \n",
       "3            0    95340  242162        4      0  \n",
       "4            3   250940   70404        5      0  "
      ]
     },
     "execution_count": 86,
     "metadata": {},
     "output_type": "execute_result"
    }
   ],
   "source": [
    "df = pd.read_csv('../data/encoded_data.csv',sep=' ', names=['issuercountry', 'txvariantcode', 'issuer_id', 'amount', 'currencycode', 'shoppercountry', 'interaction', 'verification', 'cvcresponse', 'creationdate_stamp', 'accountcode', 'mail_id', 'ip_id', 'card_id', 'label'])\n",
    "df.head()"
   ]
  },
  {
   "cell_type": "markdown",
   "metadata": {},
   "source": [
    "## Split data and label"
   ]
  },
  {
   "cell_type": "code",
   "execution_count": 77,
   "metadata": {},
   "outputs": [
    {
     "name": "stdout",
     "output_type": "stream",
     "text": [
      "(236698, 14)\n",
      "(236698,)\n"
     ]
    }
   ],
   "source": [
    "X = np.asmatrix(df.drop(['label'], axis=1))\n",
    "y = df['label']\n",
    "print(X.shape)\n",
    "print(y.shape)"
   ]
  },
  {
   "cell_type": "markdown",
   "metadata": {},
   "source": [
    "## Classification: Balanced bagging classifier (10 subsets)"
   ]
  },
  {
   "cell_type": "markdown",
   "metadata": {},
   "source": [
    "### Run classifier"
   ]
  },
  {
   "cell_type": "code",
   "execution_count": 89,
   "metadata": {},
   "outputs": [],
   "source": [
    "from sklearn.model_selection import cross_val_predict\n",
    "from sklearn.metrics import confusion_matrix\n",
    "\n",
    "bbc = BalancedBaggingClassifier(base_estimator=DecisionTreeClassifier(),\n",
    "                                 ratio='auto',\n",
    "                                 replacement=False,\n",
    "                                 random_state=0)\n",
    "\n",
    "y_score = cross_val_predict(bbc,X,y,cv=10, method='predict_proba')"
   ]
  },
  {
   "cell_type": "markdown",
   "metadata": {},
   "source": [
    "### Output confusion matrix"
   ]
  },
  {
   "cell_type": "code",
   "execution_count": 90,
   "metadata": {},
   "outputs": [
    {
     "name": "stdout",
     "output_type": "stream",
     "text": [
      "[[234125   2228]\n",
      " [     0    345]]\n",
      "[(0, 234125), (1, 2573)]\n"
     ]
    }
   ],
   "source": [
    "from collections import Counter\n",
    "\n",
    "# print confusion matrix\n",
    "y_pred = (y_score[:,1] > 0.5).astype(int)\n",
    "print(confusion_matrix(y,y_pred))\n",
    "print(sorted(Counter(y_pred).items()))"
   ]
  },
  {
   "cell_type": "markdown",
   "metadata": {},
   "source": [
    "### Output Precision-Recall Curve"
   ]
  },
  {
   "cell_type": "code",
   "execution_count": 95,
   "metadata": {},
   "outputs": [
    {
     "data": {
      "image/png": "[encoded data removed]",
      "text/plain": [
       "<Figure size 432x288 with 1 Axes>"
      ]
     },
     "metadata": {},
     "output_type": "display_data"
    }
   ],
   "source": [
    "from sklearn.metrics import precision_recall_curve, auc\n",
    "\n",
    "# calculate PR curve values\n",
    "prec, rec, thresholds = precision_recall_curve(y, y_score[:,1])\n",
    "\n",
    "# compute area under PR curve\n",
    "area =  auc(prec, rec)\n",
    "\n",
    "# fill area under curve\n",
    "plt.fill_between(rec, prec, step=\"mid\", alpha=0.4)\n",
    "\n",
    "# plot PR curve\n",
    "plt.step(rec, prec, where='mid', label='PR (area = {0:0.2f})'.format(area))\n",
    "plt.xlabel('Precision')\n",
    "plt.ylabel('Recall')\n",
    "plt.title('Balanced Bagging Decision Tree')\n",
    "plt.legend()\n",
    "plt.savefig(('pr_curve_black_box_%f' % np.random.rand()).replace('.',''), ext='png', pdi=150)"
   ]
  },
  {
   "cell_type": "markdown",
   "metadata": {},
   "source": [
    "### Output all metrics"
   ]
  },
  {
   "cell_type": "code",
   "execution_count": 88,
   "metadata": {},
   "outputs": [
    {
     "name": "stdout",
     "output_type": "stream",
     "text": [
      "                   pre       rec       spe        f1       geo       iba       sup\n",
      "\n",
      "          0       1.00      0.99      1.00      1.00      1.00      0.99    236353\n",
      "          1       0.13      1.00      0.99      0.24      1.00      0.99       345\n",
      "\n",
      "avg / total       1.00      0.99      1.00      0.99      1.00      0.99    236698\n",
      "\n"
     ]
    }
   ],
   "source": [
    "from imblearn.metrics import classification_report_imbalanced\n",
    "\n",
    "print(classification_report_imbalanced(y, y_pred))"
   ]
  }
 ],
 "metadata": {
  "kernelspec": {
   "display_name": "Python 2",
   "language": "python",
   "name": "python2"
  },
  "language_info": {
   "codemirror_mode": {
    "name": "ipython",
    "version": 2
   },
   "file_extension": ".py",
   "mimetype": "text/x-python",
   "name": "python",
   "nbconvert_exporter": "python",
   "pygments_lexer": "ipython2",
   "version": "2.7.10"
  }
 },
 "nbformat": 4,
 "nbformat_minor": 2
}
