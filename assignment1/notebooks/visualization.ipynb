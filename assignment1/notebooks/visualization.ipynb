{
 "cells": [
  {
   "cell_type": "code",
   "execution_count": 2,
   "metadata": {
    "collapsed": true
   },
   "outputs": [
    {
     "ename": "SyntaxError",
     "evalue": "Missing parentheses in call to 'print'. Did you mean print('\\nshape of data')? (<ipython-input-2-e6d4b3354038>, line 22)",
     "traceback": [
      "\u001b[0;36m  File \u001b[0;32m\"<ipython-input-2-e6d4b3354038>\"\u001b[0;36m, line \u001b[0;32m22\u001b[0m\n\u001b[0;31m    print '\\nshape of data'\u001b[0m\n\u001b[0m                          ^\u001b[0m\n\u001b[0;31mSyntaxError\u001b[0m\u001b[0;31m:\u001b[0m Missing parentheses in call to 'print'. Did you mean print('\\nshape of data')?\n"
     ],
     "output_type": "error"
    }
   ],
   "source": [
    "%matplotlib inline\n",
    "import pandas as pd\n",
    "import matplotlib.pyplot as plt\n",
    "from sklearn import neighbors\n",
    "from sklearn.linear_model import LogisticRegression\n",
    "from sklearn.ensemble import RandomForestClassifier\n",
    "from sklearn import svm\n",
    "from sklearn import preprocessing\n",
    "from sklearn.metrics import classification_report\n",
    "from sklearn.metrics import confusion_matrix\n",
    "from sklearn.metrics import roc_curve, auc, precision_recall_curve, f1_score, precision_score\n",
    "from sklearn.ensemble import RandomForestClassifier\n",
    "import seaborn as sns\n",
    "from sklearn import cross_validation\n",
    "\n",
    "import numpy as np\n",
    "from unbalanced_dataset.over_sampling import OverSampler\n",
    "from unbalanced_dataset.over_sampling import SMOTE\n",
    "from unbalanced_dataset.under_sampling import UnderSampler\n",
    "from unbalanced_dataset.unbalanced_dataset import UnbalancedDataset\n",
    "df = pd.read_csv('../data/data_for_student_case.csv')\n",
    "print '\\nshape of data'\n",
    "print df.shape\n",
    "print '\\ntypes of index'\n",
    "print df.dtypes\n",
    "print '\\ndescribe (only for float data)'\n",
    "print df.describe()"
   ]
  },
  {
   "cell_type": "code",
   "execution_count": null,
   "metadata": {},
   "outputs": [],
   "source": []
  }
 ],
 "metadata": {
  "kernelspec": {
   "display_name": "Python 2",
   "language": "python",
   "name": "python2"
  },
  "language_info": {
   "codemirror_mode": {
    "name": "ipython",
    "version": 2
   },
   "file_extension": ".py",
   "mimetype": "text/x-python",
   "name": "python",
   "nbconvert_exporter": "python",
   "pygments_lexer": "ipython2",
   "version": "2.7.6"
  }
 },
 "nbformat": 4,
 "nbformat_minor": 0
}
