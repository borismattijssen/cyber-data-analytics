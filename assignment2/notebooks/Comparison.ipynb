{
 "cells": [
  {
   "cell_type": "markdown",
   "metadata": {},
   "source": [
    "# Compare our three methods"
   ]
  },
  {
   "cell_type": "markdown",
   "metadata": {},
   "source": [
    "## Import and input"
   ]
  },
  {
   "cell_type": "code",
   "execution_count": 1,
   "metadata": {},
   "outputs": [],
   "source": [
    "import numpy as np\n",
    "import pandas as pd\n",
    "import matplotlib.pyplot as plt\n",
    "from statsmodels.tsa.arima_model import ARMA\n",
    "\n",
    "train1 = pd.read_csv('../data/training_1.csv')\n",
    "train2 = pd.read_csv('../data/training_2.csv')"
   ]
  },
  {
   "cell_type": "markdown",
   "metadata": {},
   "source": [
    "## Define comparison metric"
   ]
  },
  {
   "cell_type": "code",
   "execution_count": 2,
   "metadata": {},
   "outputs": [],
   "source": [
    "def compute_S(anomalies, gamma):    \n",
    "    # attack intervals\n",
    "    attacks = [\n",
    "        [1731, 1772],\n",
    "        [2337, 2396],\n",
    "        [2851, 2887],\n",
    "        [3508, 3514],\n",
    "        [3741, 3813]\n",
    "    ]\n",
    "    # construct truth signal\n",
    "    truth = np.zeros(len(anomalies))\n",
    "    for attack in attacks:\n",
    "        truth[attack[0]:attack[1]] = 1\n",
    "    \n",
    "    # compute s_ttd\n",
    "    s = 0\n",
    "    for attack in attacks:\n",
    "        t = attack[1] - attack[0] + 1\n",
    "        ttd = t\n",
    "        flags = anomalies[attack[0]:attack[1]]\n",
    "        for i, flag in enumerate(flags):\n",
    "            if flag == 1:\n",
    "                ttd = i\n",
    "                break\n",
    "        s += ttd / t\n",
    "    s_ttd = 1 - s/len(attacks)\n",
    "    \n",
    "    # compute s_cm\n",
    "    TP = len([x for i,x in enumerate(anomalies) if x == 1 and truth[i] == 1])\n",
    "    TN = len([x for i,x in enumerate(anomalies) if x == 0 and truth[i] == 0])\n",
    "    TPR = TP / sum(truth)\n",
    "    TNR = TN / (len(truth) - sum(truth))\n",
    "    s_cm = 0.5 * (TPR + TNR)\n",
    "    print(\"TPR/TNR : {}/{}\".format(TPR,TNR))\n",
    "    \n",
    "    # return S\n",
    "    S = gamma * s_ttd + (1-gamma) * s_cm\n",
    "    return (S, s_ttd, s_cm)"
   ]
  },
  {
   "cell_type": "markdown",
   "metadata": {},
   "source": [
    "## Visually compare"
   ]
  },
  {
   "cell_type": "code",
   "execution_count": 3,
   "metadata": {},
   "outputs": [
    {
     "data": {
      "image/png": "[encoded data removed]",
      "text/plain": [
       "<matplotlib.figure.Figure at 0x10e27d748>"
      ]
     },
     "metadata": {},
     "output_type": "display_data"
    }
   ],
   "source": [
    "methods = ['arma', 'sax', 'pca']\n",
    "\n",
    "# set size\n",
    "fig = plt.figure(figsize=(16,5))\n",
    "plt.subplots_adjust(hspace=0.7)\n",
    "for i, method in enumerate(methods):\n",
    "    # load predictions\n",
    "    pred = np.load('../data/{}_pred.npy'.format(method))\n",
    "\n",
    "    # plot the prediction\n",
    "    ax = fig.add_subplot(3,1,i+1)\n",
    "    ax.set_title(method.upper())\n",
    "    ax.set_ylim([-0.1,1.1])\n",
    "    ax.plot(pred,label='alarms')\n",
    "    ax.plot(train2['ATT_FLAG'],label='attacks')\n",
    "    ax.legend()\n",
    "\n",
    "# show\n",
    "plt.savefig('comparison')\n",
    "plt.show()"
   ]
  },
  {
   "cell_type": "markdown",
   "metadata": {},
   "source": [
    "## Compare based on S-score"
   ]
  },
  {
   "cell_type": "code",
   "execution_count": 4,
   "metadata": {},
   "outputs": [
    {
     "name": "stdout",
     "output_type": "stream",
     "text": [
      "TPR/TNR : 0.3037383177570093/0.997476659096644\n",
      "arma: 0.636855267289932\n",
      "TPR/TNR : 0.18691588785046728/0.9997476659096644\n",
      "sax: 0.5785672774593675\n",
      "TPR/TNR : 0.27102803738317754/0.9997476659096644\n",
      "pca: 0.6138014474341599\n",
      "TPR/TNR : 0.0/1.0\n",
      "baseline_0: 0.45\n",
      "TPR/TNR : 1.0/0.0\n",
      "baseline_1: 0.55\n"
     ]
    }
   ],
   "source": [
    "methods = ['arma', 'sax', 'pca']\n",
    "gamma = 0.1\n",
    "\n",
    "for method in methods:\n",
    "    # load predictions\n",
    "    pred = np.load('../data/{}_pred.npy'.format(method))\n",
    "    S = compute_S(pred,gamma)\n",
    "    print(\"{}: {}\".format(method,S[0]))\n",
    "    \n",
    "S_baseline0 = compute_S(np.zeros(len(train2['ATT_FLAG'])),gamma)\n",
    "print(\"baseline_0: {}\".format(S_baseline0[0]))\n",
    "S_baseline1 = compute_S(np.ones(len(train2['ATT_FLAG'])),gamma)\n",
    "print(\"baseline_1: {}\".format(S_baseline1[0]))"
   ]
  }
 ],
 "metadata": {
  "kernelspec": {
   "display_name": "Python 3",
   "language": "python",
   "name": "python3"
  },
  "language_info": {
   "codemirror_mode": {
    "name": "ipython",
    "version": 3
   },
   "file_extension": ".py",
   "mimetype": "text/x-python",
   "name": "python",
   "nbconvert_exporter": "python",
   "pygments_lexer": "ipython3",
   "version": "3.6.3"
  }
 },
 "nbformat": 4,
 "nbformat_minor": 2
}
