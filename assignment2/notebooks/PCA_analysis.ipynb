{
 "cells": [
  {
   "cell_type": "markdown",
   "metadata": {},
   "source": [
    "# Detect anomalies with PCA on all signals"
   ]
  },
  {
   "cell_type": "markdown",
   "metadata": {},
   "source": [
    "## Import and input"
   ]
  },
  {
   "cell_type": "code",
   "execution_count": 7,
   "metadata": {},
   "outputs": [],
   "source": [
    "import pandas as pd\n",
    "from sklearn.decomposition import PCA\n",
    "from sklearn.preprocessing import Normalizer\n",
    "import numpy as np\n",
    "from matplotlib import pyplot as plt\n",
    "\n",
    "\n",
    "train1 = pd.read_csv('../data/training_1.csv')\n",
    "train2 = pd.read_csv('../data/training_2.csv')"
   ]
  },
  {
   "cell_type": "markdown",
   "metadata": {},
   "source": [
    "## Data preparation for PCA"
   ]
  },
  {
   "cell_type": "code",
   "execution_count": 8,
   "metadata": {},
   "outputs": [],
   "source": [
    "# store all time points of known attacks\n",
    "labels = list(train2.loc[train2['ATT_FLAG']==1].index)\n",
    "\n",
    "# remove non-sensor data\n",
    "train1 = train1.loc[:,train1.columns!='ATT_FLAG']\n",
    "series = train1.loc[:,train1.columns!='DATETIME']\n",
    "train2 = train2.loc[:,train2.columns!='ATT_FLAG']\n",
    "series2 = train2.loc[:,train2.columns!='DATETIME']\n",
    "\n"
   ]
  },
  {
   "cell_type": "markdown",
   "metadata": {},
   "source": [
    "## Define PCA process for anomaly detection"
   ]
  },
  {
   "cell_type": "code",
   "execution_count": 9,
   "metadata": {},
   "outputs": [],
   "source": [
    "def pca_residuals(series,series2):\n",
    "    # PCA requires normalized data\n",
    "    normalizer = Normalizer()\n",
    "    normalized_series =pd.DataFrame(normalizer.fit_transform(series))\n",
    "\n",
    "    normalizer2 = Normalizer()\n",
    "    normalized_series2 = pd.DataFrame(normalizer2.fit_transform(series2))\n",
    "\n",
    "    # use PCA and find the importance of each principal component\n",
    "    pca = PCA()\n",
    "    pca.fit(normalized_series)\n",
    "    print(pca.explained_variance_ratio_)\n",
    "    \n",
    "    # use most significant components to capture data behavior\n",
    "    pca2 = PCA(n_components=7)\n",
    "    pca2.fit(normalized_series)\n",
    "    \n",
    "    # project both the normal and anomalous data in the 7D Principal Component space\n",
    "    projection = pca2.transform(normalized_series)\n",
    "    projection2 = pca2.transform(normalized_series2)\n",
    "    \n",
    "    # use the 7 principal components to project the data back to the original space\n",
    "    components = pca2.components_\n",
    "    recreation = np.matmul(projection,components)\n",
    "    recreation2 =  np.matmul(projection2,components)\n",
    "    \n",
    "    # calculate the residual per signal \n",
    "    residuals = np.subtract(np.array(normalized_series),recreation)\n",
    "    residuals2 = np.subtract(np.array(normalized_series2),recreation2)\n",
    "    \n",
    "    # combine the residuals of all signals for each point in time\n",
    "    residual = np.sum(np.square(residuals),axis=1)\n",
    "    residual2 = np.sum(np.square(residuals2),axis=1)\n",
    "    \n",
    "    return residual, residual2"
   ]
  },
  {
   "cell_type": "markdown",
   "metadata": {},
   "source": [
    "## Perform PCA"
   ]
  },
  {
   "cell_type": "code",
   "execution_count": 4,
   "metadata": {},
   "outputs": [
    {
     "name": "stdout",
     "output_type": "stream",
     "text": [
      "[4.17069326e-01 2.84623976e-01 9.49846165e-02 8.02669313e-02\n",
      " 6.66072167e-02 3.54455113e-02 1.09027636e-02 3.55783644e-03\n",
      " 2.05053375e-03 1.34806571e-03 1.04592992e-03 6.21398354e-04\n",
      " 4.44894278e-04 2.91654098e-04 2.04017340e-04 1.30103613e-04\n",
      " 1.12740210e-04 8.32099950e-05 6.45947251e-05 5.49207265e-05\n",
      " 3.32930788e-05 2.89940320e-05 2.32243860e-05 2.91336032e-06\n",
      " 6.09480342e-07 3.81642611e-07 1.42621985e-07 5.43278403e-08\n",
      " 4.76266637e-08 3.12523788e-08 2.88499241e-08 2.65816798e-08\n",
      " 5.02432048e-09 4.34886828e-09 1.58380651e-09 1.42419291e-09\n",
      " 2.87324611e-11 2.56272105e-33 2.56272105e-33 2.56272105e-33\n",
      " 2.56272105e-33 2.56272105e-33 2.56272105e-33]\n"
     ]
    },
    {
     "data": {
      "image/png": "[encoded data removed]",
      "text/plain": [
       "<Figure size 432x288 with 1 Axes>"
      ]
     },
     "metadata": {},
     "output_type": "display_data"
    }
   ],
   "source": [
    "residual, residual2 = pca_residuals(series,series2)\n",
    "\n",
    "# plot the residuals for both datasets and compare them\n",
    "plt.plot(residual,'b')\n",
    "plt.plot(residual2,'r')\n",
    "plt.legend(['BATADAL_dataset03','BATADAL_dataset04'])\n",
    "plt.show()"
   ]
  },
  {
   "cell_type": "markdown",
   "metadata": {},
   "source": [
    "## Repeat PCA after data cleaning"
   ]
  },
  {
   "cell_type": "code",
   "execution_count": 5,
   "metadata": {},
   "outputs": [
    {
     "name": "stdout",
     "output_type": "stream",
     "text": [
      "[7.13169111e-01 1.19221680e-01 9.88389120e-02 5.13342339e-02\n",
      " 1.59039420e-02 6.51799257e-04 2.76635131e-04 1.90718002e-04\n",
      " 1.29905702e-04 1.08784976e-04 8.53253426e-05 4.26256704e-05\n",
      " 3.39038358e-05 8.24764699e-06 2.83854283e-06 8.83129530e-07\n",
      " 1.41502725e-07 1.34989304e-07 6.67858421e-08 5.98220155e-08\n",
      " 4.95590958e-08 3.13728560e-10 5.63725231e-33 5.63725231e-33\n",
      " 5.63725231e-33 5.63725231e-33 5.63725231e-33 5.63725231e-33]\n"
     ]
    }
   ],
   "source": [
    "# remove signals that increase residual error\n",
    "series= series.drop(labels=['L_T1','P_J415','P_J256','P_J306','P_J317','F_PU11','P_J14','P_J422','P_J269','F_PU7','P_J289','P_J300','P_J302','P_J307','F_V2'],axis=1) \n",
    "series2= series2.drop(labels=['L_T1','P_J415','P_J256','P_J306','P_J317','F_PU11','P_J14','P_J422','P_J269','F_PU7','P_J289','P_J300','P_J302','P_J307','F_V2'],axis=1) \n",
    "\n",
    "residual, residual2 = pca_residuals(series,series2)"
   ]
  },
  {
   "cell_type": "markdown",
   "metadata": {},
   "source": [
    "## Evaluate PCA results"
   ]
  },
  {
   "cell_type": "code",
   "execution_count": 6,
   "metadata": {},
   "outputs": [
    {
     "name": "stdout",
     "output_type": "stream",
     "text": [
      "0\n",
      "0\n"
     ]
    }
   ],
   "source": [
    "# set the conditions for anomalous behavior\n",
    "threshold1 = np.max(residual)\n",
    "threshold2 = np.min(residual)\n",
    "detected_indices = np.where((residual2>threshold1))\n",
    "detected_rows = detected_indices[0]\n",
    "unique_rows = set(detected_rows)\n",
    "        \n",
    "detected_indices = np.where((residual2<threshold2))\n",
    "detected_rows = detected_indices[0]\n",
    "for time_point in detected_rows:\n",
    "    unique_rows.add(time_point)\n",
    "unique_rows = list(unique_rows)\n",
    "unique_rows.sort()\n",
    "\n",
    "# compute conservative True Positives and False Positives\n",
    "TP = 0\n",
    "FP = 0\n",
    "for j in unique_rows:\n",
    "    if j in labels:\n",
    "        TP +=1\n",
    "    else:\n",
    "        FP +=1                \n",
    "        \n",
    "print(TP)\n",
    "print(FP)"
   ]
  },
  {
   "cell_type": "code",
   "execution_count": null,
   "metadata": {},
   "outputs": [],
   "source": []
  }
 ],
 "metadata": {
  "kernelspec": {
   "display_name": "Python 2",
   "language": "python",
   "name": "python2"
  },
  "language_info": {
   "codemirror_mode": {
    "name": "ipython",
    "version": 2
   },
   "file_extension": ".py",
   "mimetype": "text/x-python",
   "name": "python",
   "nbconvert_exporter": "python",
   "pygments_lexer": "ipython2",
   "version": "2.7.14"
  }
 },
 "nbformat": 4,
 "nbformat_minor": 1
}
