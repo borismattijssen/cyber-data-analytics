{
 "cells": [
  {
   "cell_type": "markdown",
   "metadata": {},
   "source": [
    "# Botnet Profiling"
   ]
  },
  {
   "cell_type": "code",
   "execution_count": 1,
   "metadata": {},
   "outputs": [],
   "source": [
    "import pandas as pd\n",
    "import numpy as np\n",
    "from hmmlearn.hmm import GaussianHMM\n",
    "\n",
    "\n",
    "# classes and functions used for the discretization of flow data\n",
    "class M_num:\n",
    "    '''\n",
    "    Compute the mapping for numerical features\n",
    "    '''\n",
    "\n",
    "    # paramater to change number of percentiles\n",
    "    p = 5\n",
    "\n",
    "    # percentile vals contains the feature values corresponding to the different percentiles\n",
    "    percentile_vals = []\n",
    "    # s is the size of the feature (i.e. |M_i|)\n",
    "    s = 0\n",
    "    # feature that we're working with\n",
    "    feat = ''\n",
    "    # the full dataframe\n",
    "    df = None\n",
    "\n",
    "    def __init__(self, df, feat):\n",
    "        percentiles = np.arange(.1, 1, 1 / self.p)\n",
    "        self.percentile_vals = map(lambda p: np.percentile(df[feat], p), percentiles)\n",
    "        self.s = len(percentiles)\n",
    "        self.feat = feat\n",
    "        self.df = df\n",
    "\n",
    "    # return the size |M_i|\n",
    "    def size(self):\n",
    "        return self.s\n",
    "\n",
    "    # return the value M_i\n",
    "    def val(self, row):\n",
    "        val = row[self.feat]\n",
    "        prev = 0\n",
    "        for i, cur in enumerate(self.percentile_vals):\n",
    "            if val >= prev and val < cur:\n",
    "                return i\n",
    "            prev = cur\n",
    "        return 0\n",
    "\n",
    "\n",
    "class M_cat:\n",
    "    '''\n",
    "    Compute the mapping for categorical features\n",
    "    '''\n",
    "\n",
    "    # s is the size of the feature (i.e. |M_i|)\n",
    "    s = 0\n",
    "    # feature that we're working with\n",
    "    feat = ''\n",
    "    # the full dataframe\n",
    "    df = None\n",
    "\n",
    "    def __init__(self, df, feat):\n",
    "        self.s = len(df[feat].unique())\n",
    "        self.feat = feat\n",
    "        self.df = df\n",
    "\n",
    "    # return the size |M_i|\n",
    "    def size(self):\n",
    "        return self.s\n",
    "\n",
    "    # return the value M_i\n",
    "    def val(self, row):\n",
    "        return row[self.feat]\n",
    "\n",
    "\n",
    "# encode a single flow\n",
    "def encode_flow(feats, row):\n",
    "    code = 0\n",
    "    space_size = 1\n",
    "    for feat in feats:\n",
    "        space_size *= feats[feat].size()\n",
    "    for feat in feats:\n",
    "        s = feats[feat].size()\n",
    "        v = feats[feat].val(row)\n",
    "        code += v * (space_size / s)\n",
    "        space_size = space_size / s\n",
    "    return code\n",
    "\n",
    "\n",
    "# encode an entire series of flows\n",
    "def encode_series(df, feats):\n",
    "    encoded = []\n",
    "    for index, row in df.iterrows():\n",
    "        encoded.append(encode_flow(feats, row))\n",
    "    return encoded"
   ]
  },
  {
   "cell_type": "markdown",
   "metadata": {},
   "source": [
    "## Data preparation"
   ]
  },
  {
   "cell_type": "code",
   "execution_count": 3,
   "metadata": {},
   "outputs": [],
   "source": [
    "# load data\n",
    "names = ['date', 'time', 'duration', 'protocol', 'src', 'direction', 'dst', 'flags', 'tos', 'packets', 'bytes', 'flows', 'label']\n",
    "df = pd.read_csv('../data/capture20110818.pcap.netflow_51_.labeled',skiprows=1,header=0,sep='\\s+',names=names)\n",
    "df = df[df['label'] != 'Background']\n",
    "# split ip:port columns\n",
    "df['src_ip'], df['src_port'] = df['src'].str.split(':', 1).str\n",
    "df['dst_ip'], df['dst_port'] = df['dst'].str.split(':', 1).str\n",
    "df['src_ip_num'] = pd.Categorical(df['src_ip'], categories=df['src_ip'].unique()).codes\n",
    "df['dst_ip_num'] = pd.Categorical(df['dst_ip'], categories=df['dst_ip'].unique()).codes\n",
    "\n",
    "# convert categorical data\n",
    "df['protocol_num'] = pd.Categorical(df['protocol'], categories=df['protocol'].unique()).codes"
   ]
  },
  {
   "cell_type": "markdown",
   "metadata": {},
   "source": [
    "## Infected host data discretization and profiling"
   ]
  },
  {
   "cell_type": "code",
   "execution_count": 4,
   "metadata": {},
   "outputs": [
    {
     "ename": "ZeroDivisionError",
     "evalue": "float division by zero",
     "output_type": "error",
     "traceback": [
      "\u001b[0;31m---------------------------------------------------------------------------\u001b[0m",
      "\u001b[0;31mZeroDivisionError\u001b[0m                         Traceback (most recent call last)",
      "\u001b[0;32m<ipython-input-4-3d07702ffe3e>\u001b[0m in \u001b[0;36m<module>\u001b[0;34m()\u001b[0m\n\u001b[1;32m      6\u001b[0m \u001b[0;34m\u001b[0m\u001b[0m\n\u001b[1;32m      7\u001b[0m \u001b[0;31m# discretization based on the important features found in the previous task\u001b[0m\u001b[0;34m\u001b[0m\u001b[0;34m\u001b[0m\u001b[0m\n\u001b[0;32m----> 8\u001b[0;31m \u001b[0mfeats\u001b[0m \u001b[0;34m=\u001b[0m \u001b[0;34m{\u001b[0m\u001b[0;34m'protocol_num'\u001b[0m\u001b[0;34m:\u001b[0m \u001b[0mM_cat\u001b[0m\u001b[0;34m(\u001b[0m\u001b[0mchosen\u001b[0m\u001b[0;34m,\u001b[0m \u001b[0;34m'protocol_num'\u001b[0m\u001b[0;34m)\u001b[0m\u001b[0;34m,\u001b[0m \u001b[0;34m'bytes'\u001b[0m\u001b[0;34m:\u001b[0m \u001b[0mM_num\u001b[0m\u001b[0;34m(\u001b[0m\u001b[0mchosen\u001b[0m\u001b[0;34m,\u001b[0m \u001b[0;34m'bytes'\u001b[0m\u001b[0;34m)\u001b[0m\u001b[0;34m}\u001b[0m\u001b[0;34m\u001b[0m\u001b[0m\n\u001b[0m\u001b[1;32m      9\u001b[0m \u001b[0mchosen_discrete\u001b[0m \u001b[0;34m=\u001b[0m \u001b[0mencode_series\u001b[0m\u001b[0;34m(\u001b[0m\u001b[0mchosen\u001b[0m\u001b[0;34m,\u001b[0m\u001b[0mfeats\u001b[0m\u001b[0;34m)\u001b[0m\u001b[0;34m\u001b[0m\u001b[0m\n\u001b[1;32m     10\u001b[0m \u001b[0;31m# define sliding window size\u001b[0m\u001b[0;34m\u001b[0m\u001b[0;34m\u001b[0m\u001b[0m\n",
      "\u001b[0;32m<ipython-input-1-1470973db9b1>\u001b[0m in \u001b[0;36m__init__\u001b[0;34m(self, df, feat)\u001b[0m\n\u001b[1;32m     23\u001b[0m \u001b[0;34m\u001b[0m\u001b[0m\n\u001b[1;32m     24\u001b[0m     \u001b[0;32mdef\u001b[0m \u001b[0m__init__\u001b[0m\u001b[0;34m(\u001b[0m\u001b[0mself\u001b[0m\u001b[0;34m,\u001b[0m \u001b[0mdf\u001b[0m\u001b[0;34m,\u001b[0m \u001b[0mfeat\u001b[0m\u001b[0;34m)\u001b[0m\u001b[0;34m:\u001b[0m\u001b[0;34m\u001b[0m\u001b[0m\n\u001b[0;32m---> 25\u001b[0;31m         \u001b[0mpercentiles\u001b[0m \u001b[0;34m=\u001b[0m \u001b[0mnp\u001b[0m\u001b[0;34m.\u001b[0m\u001b[0marange\u001b[0m\u001b[0;34m(\u001b[0m\u001b[0;36m.1\u001b[0m\u001b[0;34m,\u001b[0m \u001b[0;36m1\u001b[0m\u001b[0;34m,\u001b[0m \u001b[0;36m1\u001b[0m \u001b[0;34m/\u001b[0m \u001b[0mself\u001b[0m\u001b[0;34m.\u001b[0m\u001b[0mp\u001b[0m\u001b[0;34m)\u001b[0m\u001b[0;34m\u001b[0m\u001b[0m\n\u001b[0m\u001b[1;32m     26\u001b[0m         \u001b[0mself\u001b[0m\u001b[0;34m.\u001b[0m\u001b[0mpercentile_vals\u001b[0m \u001b[0;34m=\u001b[0m \u001b[0mmap\u001b[0m\u001b[0;34m(\u001b[0m\u001b[0;32mlambda\u001b[0m \u001b[0mp\u001b[0m\u001b[0;34m:\u001b[0m \u001b[0mnp\u001b[0m\u001b[0;34m.\u001b[0m\u001b[0mpercentile\u001b[0m\u001b[0;34m(\u001b[0m\u001b[0mdf\u001b[0m\u001b[0;34m[\u001b[0m\u001b[0mfeat\u001b[0m\u001b[0;34m]\u001b[0m\u001b[0;34m,\u001b[0m \u001b[0mp\u001b[0m\u001b[0;34m)\u001b[0m\u001b[0;34m,\u001b[0m \u001b[0mpercentiles\u001b[0m\u001b[0;34m)\u001b[0m\u001b[0;34m\u001b[0m\u001b[0m\n\u001b[1;32m     27\u001b[0m         \u001b[0mself\u001b[0m\u001b[0;34m.\u001b[0m\u001b[0ms\u001b[0m \u001b[0;34m=\u001b[0m \u001b[0mlen\u001b[0m\u001b[0;34m(\u001b[0m\u001b[0mpercentiles\u001b[0m\u001b[0;34m)\u001b[0m\u001b[0;34m\u001b[0m\u001b[0m\n",
      "\u001b[0;31mZeroDivisionError\u001b[0m: float division by zero"
     ]
    }
   ],
   "source": [
    "# the infected host flows that we will profile\n",
    "chosen = df[df['src_ip'] == '147.32.84.204']\n",
    "# rest of the hosts split between benign and malicious for testing purposes\n",
    "normal =  ['147.32.84.170', '147.32.84.134', '147.32.84.164', '147.32.87.36', '147.32.80.9', '147.32.87.11']\n",
    "infected = ['147.32.84.165','147.32.84.191','147.32.84.192','147.32.84.193','147.32.84.205','147.32.84.206','147.32.84.207','147.32.84.208','147.32.84.209']\n",
    "\n",
    "# discretization based on the important features found in the previous task\n",
    "feats = {'protocol_num': M_cat(chosen, 'protocol_num'), 'bytes': M_num(chosen, 'bytes')}\n",
    "chosen_discrete = encode_series(chosen,feats)\n",
    "# define sliding window size\n",
    "win = 10\n",
    "size = len(chosen_discrete) - win\n",
    "# create sliding window data\n",
    "data = np.zeros((size,win),dtype=np.int32)\n",
    "for i in range(size):\n",
    "    data[i] = np.array([flow for flow in chosen_discrete[i:i+win]])\n",
    "\n",
    "# learn a Gaussian Hidden Markov Model with 4 states from the infected host data\n",
    "hmm = GaussianHMM(n_components=4)\n",
    "hmm.fit(data)\n",
    "# store the log-likelihood of the host that trained the model\n",
    "ll = hmm.decode(data)[0]"
   ]
  },
  {
   "cell_type": "markdown",
   "metadata": {},
   "source": [
    "## Use learned profile to model other hosts data"
   ]
  },
  {
   "cell_type": "code",
   "execution_count": 5,
   "metadata": {},
   "outputs": [
    {
     "name": "stderr",
     "output_type": "stream",
     "text": [
      "/media/mixalis/Seagate Expansion Drive/TU Delft/git/.env/lib/python3.6/site-packages/sklearn/utils/deprecation.py:77: DeprecationWarning: Function log_multivariate_normal_density is deprecated; The function log_multivariate_normal_density is deprecated in 0.18 and will be removed in 0.20.\n",
      "  warnings.warn(msg, category=DeprecationWarning)\n",
      "/media/mixalis/Seagate Expansion Drive/TU Delft/git/.env/lib/python3.6/site-packages/hmmlearn/base.py:451: RuntimeWarning: divide by zero encountered in log\n",
      "  n_samples, n_components, np.log(self.startprob_),\n",
      "/media/mixalis/Seagate Expansion Drive/TU Delft/git/.env/lib/python3.6/site-packages/hmmlearn/base.py:452: RuntimeWarning: divide by zero encountered in log\n",
      "  np.log(self.transmat_), framelogprob)\n",
      "/media/mixalis/Seagate Expansion Drive/TU Delft/git/.env/lib/python3.6/site-packages/sklearn/utils/deprecation.py:77: DeprecationWarning: Function log_multivariate_normal_density is deprecated; The function log_multivariate_normal_density is deprecated in 0.18 and will be removed in 0.20.\n",
      "  warnings.warn(msg, category=DeprecationWarning)\n",
      "/media/mixalis/Seagate Expansion Drive/TU Delft/git/.env/lib/python3.6/site-packages/sklearn/utils/deprecation.py:77: DeprecationWarning: Function log_multivariate_normal_density is deprecated; The function log_multivariate_normal_density is deprecated in 0.18 and will be removed in 0.20.\n",
      "  warnings.warn(msg, category=DeprecationWarning)\n",
      "/media/mixalis/Seagate Expansion Drive/TU Delft/git/.env/lib/python3.6/site-packages/sklearn/utils/deprecation.py:77: DeprecationWarning: Function log_multivariate_normal_density is deprecated; The function log_multivariate_normal_density is deprecated in 0.18 and will be removed in 0.20.\n",
      "  warnings.warn(msg, category=DeprecationWarning)\n",
      "/media/mixalis/Seagate Expansion Drive/TU Delft/git/.env/lib/python3.6/site-packages/sklearn/utils/deprecation.py:77: DeprecationWarning: Function log_multivariate_normal_density is deprecated; The function log_multivariate_normal_density is deprecated in 0.18 and will be removed in 0.20.\n",
      "  warnings.warn(msg, category=DeprecationWarning)\n",
      "/media/mixalis/Seagate Expansion Drive/TU Delft/git/.env/lib/python3.6/site-packages/sklearn/utils/deprecation.py:77: DeprecationWarning: Function log_multivariate_normal_density is deprecated; The function log_multivariate_normal_density is deprecated in 0.18 and will be removed in 0.20.\n",
      "  warnings.warn(msg, category=DeprecationWarning)\n",
      "/media/mixalis/Seagate Expansion Drive/TU Delft/git/.env/lib/python3.6/site-packages/sklearn/utils/deprecation.py:77: DeprecationWarning: Function log_multivariate_normal_density is deprecated; The function log_multivariate_normal_density is deprecated in 0.18 and will be removed in 0.20.\n",
      "  warnings.warn(msg, category=DeprecationWarning)\n",
      "/media/mixalis/Seagate Expansion Drive/TU Delft/git/.env/lib/python3.6/site-packages/sklearn/utils/deprecation.py:77: DeprecationWarning: Function log_multivariate_normal_density is deprecated; The function log_multivariate_normal_density is deprecated in 0.18 and will be removed in 0.20.\n",
      "  warnings.warn(msg, category=DeprecationWarning)\n",
      "/media/mixalis/Seagate Expansion Drive/TU Delft/git/.env/lib/python3.6/site-packages/sklearn/utils/deprecation.py:77: DeprecationWarning: Function log_multivariate_normal_density is deprecated; The function log_multivariate_normal_density is deprecated in 0.18 and will be removed in 0.20.\n",
      "  warnings.warn(msg, category=DeprecationWarning)\n",
      "/media/mixalis/Seagate Expansion Drive/TU Delft/git/.env/lib/python3.6/site-packages/sklearn/utils/deprecation.py:77: DeprecationWarning: Function log_multivariate_normal_density is deprecated; The function log_multivariate_normal_density is deprecated in 0.18 and will be removed in 0.20.\n",
      "  warnings.warn(msg, category=DeprecationWarning)\n",
      "/media/mixalis/Seagate Expansion Drive/TU Delft/git/.env/lib/python3.6/site-packages/sklearn/utils/deprecation.py:77: DeprecationWarning: Function log_multivariate_normal_density is deprecated; The function log_multivariate_normal_density is deprecated in 0.18 and will be removed in 0.20.\n",
      "  warnings.warn(msg, category=DeprecationWarning)\n",
      "/media/mixalis/Seagate Expansion Drive/TU Delft/git/.env/lib/python3.6/site-packages/sklearn/utils/deprecation.py:77: DeprecationWarning: Function log_multivariate_normal_density is deprecated; The function log_multivariate_normal_density is deprecated in 0.18 and will be removed in 0.20.\n",
      "  warnings.warn(msg, category=DeprecationWarning)\n",
      "/media/mixalis/Seagate Expansion Drive/TU Delft/git/.env/lib/python3.6/site-packages/sklearn/utils/deprecation.py:77: DeprecationWarning: Function log_multivariate_normal_density is deprecated; The function log_multivariate_normal_density is deprecated in 0.18 and will be removed in 0.20.\n",
      "  warnings.warn(msg, category=DeprecationWarning)\n",
      "/media/mixalis/Seagate Expansion Drive/TU Delft/git/.env/lib/python3.6/site-packages/sklearn/utils/deprecation.py:77: DeprecationWarning: Function log_multivariate_normal_density is deprecated; The function log_multivariate_normal_density is deprecated in 0.18 and will be removed in 0.20.\n",
      "  warnings.warn(msg, category=DeprecationWarning)\n"
     ]
    }
   ],
   "source": [
    "log_likelihood = {}\n",
    "\n",
    "# compute log-likelihood of data sequence of normal hosts from infected host model\n",
    "for ip in normal:\n",
    "    # get the flows of that host only\n",
    "    host = df[df['src_ip'] == ip]\n",
    "    # discretize flows using protocol and packet bytes only\n",
    "    host_discrete = encode_series(host,feats)\n",
    "    size = len(host_discrete) - win\n",
    "    # if host has enough flows for creating a window\n",
    "    if size > 0:\n",
    "        # create sliding windows sequences\n",
    "        data = np.zeros((size,win),dtype=np.int32)\n",
    "        for i in range(size):\n",
    "            data[i] = np.array([flow for flow in host_discrete[i:i+win]])\n",
    "        # get the log-likelihood of the sequential data\n",
    "        log_likelihood[ip] = hmm.decode(data)[0]\n",
    "    else:\n",
    "        log_likelihood[ip] = 0\n",
    "\n",
    "# repeat procedure for all infected nodes\n",
    "for ip in infected:\n",
    "    host = df[df['src_ip'] == ip]\n",
    "    host_discrete = encode_series(host,feats)\n",
    "    size = len(host_discrete) - win\n",
    "    if size > 0:\n",
    "        data = np.zeros((size,win),dtype=np.int32)\n",
    "        for i in range(size):\n",
    "            data[i] = np.array([flow for flow in host_discrete[i:i+win]])\n",
    "        log_likelihood[ip] = hmm.decode(data)[0]\n",
    "    else:\n",
    "        log_likelihood[ip] = 0"
   ]
  },
  {
   "cell_type": "markdown",
   "metadata": {},
   "source": [
    "## Compare modeled data of all other hosts with chosen infected host"
   ]
  },
  {
   "cell_type": "code",
   "execution_count": 10,
   "metadata": {},
   "outputs": [
    {
     "name": "stdout",
     "output_type": "stream",
     "text": [
      "True Positives : 9\n",
      "False Positives : 0\n",
      "True Negatives : 6\n",
      "False Negatives : 0\n"
     ]
    }
   ],
   "source": [
    "# evaluate results using the log-likelihood distance of hosts from the one who trained the model\n",
    "TP = 0\n",
    "TN = 0\n",
    "FP = 0\n",
    "FN = 0\n",
    "positives = []\n",
    "negatives = []\n",
    "\n",
    "# \n",
    "dist = {}\n",
    "for ip in log_likelihood.keys():\n",
    "    # absolute log-likelihood distance\n",
    "    dist[ip] = abs(log_likelihood[ip] - ll)\n",
    "    # threshold is half log-likelihood\n",
    "    if dist[ip] > ll / 2:\n",
    "        negatives.append(ip)\n",
    "    else:\n",
    "        positives.append(ip)\n",
    "\n",
    "# evaluate all potentially malicious hosts\n",
    "for i in positives:\n",
    "    if i in infected:\n",
    "        TP += 1\n",
    "    else:\n",
    "        FP += 1\n",
    "\n",
    "# evaluate all potentially benign hosts\n",
    "for i in negatives:\n",
    "    if i in normal:\n",
    "        TN += 1\n",
    "    else:\n",
    "        FN += 1\n",
    "\n",
    "print('True Positives : {}'.format(TP))\n",
    "print('False Positives : {}'.format(FP))\n",
    "print('True Negatives : {}'.format(TN))\n",
    "print('False Negatives : {}'.format(FN))"
   ]
  },
  {
   "cell_type": "code",
   "execution_count": null,
   "metadata": {},
   "outputs": [],
   "source": []
  }
 ],
 "metadata": {
  "kernelspec": {
   "display_name": "Python 2",
   "language": "python",
   "name": "python2"
  },
  "language_info": {
   "codemirror_mode": {
    "name": "ipython",
    "version": 2
   },
   "file_extension": ".py",
   "mimetype": "text/x-python",
   "name": "python",
   "nbconvert_exporter": "python",
   "pygments_lexer": "ipython2",
   "version": "2.7.14"
  }
 },
 "nbformat": 4,
 "nbformat_minor": 2
}
