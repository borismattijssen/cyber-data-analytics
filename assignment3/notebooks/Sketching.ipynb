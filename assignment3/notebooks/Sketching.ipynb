{
 "cells": [
  {
   "cell_type": "code",
   "execution_count": null,
   "metadata": {
    "collapsed": true
   },
   "outputs": [],
   "source": [
    "import pandas as pd\n",
    "import numpy as np\n",
    "import time\n",
    "import random"
   ]
  },
  {
   "cell_type": "code",
   "execution_count": null,
   "metadata": {},
   "outputs": [],
   "source": [
    "# load data\n",
    "names = ['date', 'time', 'duration', 'protocol', 'src', 'direction', 'dst', 'flags', 'tos', 'packets', 'bytes', 'flows', 'label']\n",
    "df = pd.read_csv('../data/capture20110818.pcap.netflow.labeled',skiprows=1,header=0,sep='\\s+',names=names)\n",
    "\n",
    "# drop Background flows\n",
    "df = df[df['label'] != 'Background']\n",
    "\n",
    "# split ip:port columns\n",
    "df['src_ip'], df['src_port'] = df['src'].str.split(':', 1).str\n",
    "df['dst_ip'], df['dst_port'] = df['dst'].str.split(':', 1).str\n",
    "df['src_ip_num'] = pd.Categorical(df['src_ip'], categories=df['src_ip'].unique()).codes\n",
    "df['dst_ip_num'] = pd.Categorical(df['dst_ip'], categories=df['dst_ip'].unique()).codes\n",
    "df['src_port'] = pd.to_numeric(df['src_port'])\n",
    "df['dst_port'] = pd.to_numeric(df['dst_port'])\n",
    "\n",
    "# convert categorical data\n",
    "df['protocol_num'] = pd.Categorical(df['protocol'], categories=df['protocol'].unique()).codes\n",
    "\n",
    "# merge date and time columns\n",
    "df['date_time'] = pd.to_datetime(df[['date', 'time']].apply(lambda x: ' '.join(x), axis=1))"
   ]
  },
  {
   "cell_type": "code",
   "execution_count": null,
   "metadata": {},
   "outputs": [],
   "source": [
    "# get only the flows of the main host\n",
    "infected_ip = '147.32.84.165'\n",
    "infected = df[df['src_ip'] == infected_ip]"
   ]
  },
  {
   "cell_type": "code",
   "execution_count": null,
   "metadata": {},
   "outputs": [],
   "source": [
    "# define the number of hash functions and their range of values\n",
    "d = 10\n",
    "w = 20\n",
    "\n",
    "# dictionaries to facilitate IP to id translation and vice versa\n",
    "ip_dict = {}\n",
    "rev_ip_dict = {}\n",
    "\n",
    "# initialize count min sketch as an array of zeros\n",
    "cm = np.zeros((d,w))\n",
    "k = 0\n",
    "\n",
    "coefs = []\n",
    "consts = []\n",
    "\n",
    "# use the hash function from the slides\n",
    "def hash_func(coef,const,base,value):\n",
    "    return (coef*value + const)%base\n",
    "\n",
    "# start time recording\n",
    "start_time = time.time()\n",
    "\n",
    "# create independent hash functions by using a different coefficient and bias term for each\n",
    "for i in range(d):\n",
    "    temp = random.randint(1,d)\n",
    "    while temp in coefs:\n",
    "        temp = random.randint(1,d)\n",
    "    coefs.append(temp)\n",
    "    temp = random.randint(1, d)\n",
    "    while temp in consts:\n",
    "        temp = random.randint(1,d)\n",
    "    consts.append(temp)"
   ]
  },
  {
   "cell_type": "code",
   "execution_count": null,
   "metadata": {},
   "outputs": [],
   "source": [
    "dst_ips = infected['dst_ip']\n",
    "for dst_ip in dst_ips:\n",
    "    # find the id of the IP\n",
    "    if dst_ip not in ip_dict.keys():\n",
    "        ip_dict[dst_ip] = k\n",
    "        rev_ip_dict[k] = dst_ip\n",
    "        k += 1\n",
    "        temp = ip_dict[dst_ip]\n",
    "        # use the id to get a hash from each hash function and update the sketch\n",
    "        for i in range(d):\n",
    "            col = hash_func(coefs[i], consts[i], w, temp)\n",
    "            cm[i, col] = cm[i, col] + 1"
   ]
  },
  {
   "cell_type": "code",
   "execution_count": null,
   "metadata": {},
   "outputs": [],
   "source": [
    "# find the minimum value for each IP\n",
    "A = np.zeros((k - 1, 1), dtype=np.int32)\n",
    "for i in range(k - 1):\n",
    "    minimum = len(lines)\n",
    "    for j in range(d):\n",
    "        temp = cm[j][hash_func(coefs[j], consts[j], w, i)]\n",
    "        if temp < minimum:\n",
    "            A[i] = temp\n",
    "            minimum = temp\n",
    "\n",
    "# find the 10 most frequent IPs\n",
    "out = A.flatten()\n",
    "res = np.argsort(out)\n",
    "for i in res[-10:]:\n",
    "    print(rev_ip_dict[i] + ' :' + str(out[i]))\n",
    "\n",
    "# stop time recording\n",
    "elapsed_time = time.time() - start_time\n",
    "print(elapsed_time)"
   ]
  }
 ],
 "metadata": {
  "kernelspec": {
   "display_name": "Python 2",
   "language": "python",
   "name": "python2"
  },
  "language_info": {
   "codemirror_mode": {
    "name": "ipython",
    "version": 2
   },
   "file_extension": ".py",
   "mimetype": "text/x-python",
   "name": "python",
   "nbconvert_exporter": "python",
   "pygments_lexer": "ipython2",
   "version": "2.7.6"
  }
 },
 "nbformat": 4,
 "nbformat_minor": 0
}
