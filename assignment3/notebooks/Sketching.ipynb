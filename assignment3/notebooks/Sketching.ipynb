{
 "cells": [
  {
   "cell_type": "markdown",
   "metadata": {},
   "source": [
    "## Count-Min Sketching"
   ]
  },
  {
   "cell_type": "code",
   "execution_count": 1,
   "metadata": {},
   "outputs": [],
   "source": [
    "import pandas as pd\n",
    "import numpy as np\n",
    "import time\n",
    "import random"
   ]
  },
  {
   "cell_type": "markdown",
   "metadata": {},
   "source": [
    "## Data preparation"
   ]
  },
  {
   "cell_type": "code",
   "execution_count": 35,
   "metadata": {},
   "outputs": [],
   "source": [
    "# load data\n",
    "names = ['date', 'time', 'duration', 'protocol', 'src', 'direction', 'dst', 'flags', 'tos', 'packets', 'bytes', 'flows', 'label']\n",
    "df = pd.read_csv('../data/capture20110811.pcap.netflow_43_.labeled',skiprows=1,header=0,sep='\\s+',names=names)\n",
    "\n",
    "# split ip:port columns\n",
    "df['src_ip'], df['src_port'] = df['src'].str.split(':', 1).str\n",
    "df['dst_ip'], df['dst_port'] = df['dst'].str.split(':', 1).str\n",
    "# get only the flows of the main host\n",
    "infected_ip = '147.32.84.165'\n",
    "infected = df[df['src_ip'] == infected_ip]"
   ]
  },
  {
   "cell_type": "markdown",
   "metadata": {},
   "source": [
    "## Perform sketching"
   ]
  },
  {
   "cell_type": "code",
   "execution_count": 40,
   "metadata": {},
   "outputs": [
    {
     "name": "stdout",
     "output_type": "stream",
     "text": [
      "(500, 50)\n",
      "67.19.72.206 :0.079\n",
      "85.158.228.111 :0.084\n",
      "174.37.196.55 :0.084\n",
      "67.69.240.18 :0.084\n",
      "204.11.209.99 :0.086\n",
      "174.128.246.102 :0.086\n",
      "64.182.71.51 :0.086\n",
      "200.143.5.118 :0.155\n",
      "193.23.181.44 :0.155\n",
      "209.59.172.38 :0.155\n",
      "1.6311008930206299\n",
      "(1000, 200)\n",
      "209.223.88.11 :0.075\n",
      "72.20.15.61 :0.075\n",
      "63.209.10.244 :0.079\n",
      "67.19.72.206 :0.079\n",
      "67.69.240.18 :0.084\n",
      "174.37.196.55 :0.084\n",
      "174.128.246.102 :0.086\n",
      "204.11.209.99 :0.086\n",
      "209.59.172.38 :0.155\n",
      "193.23.181.44 :0.155\n",
      "6.456085443496704\n",
      "(700, 25)\n",
      "72.20.15.61 :0.075\n",
      "68.67.179.211 :0.075\n",
      "67.19.72.206 :0.079\n",
      "74.125.232.199 :0.079\n",
      "174.37.196.55 :0.084\n",
      "95.172.94.59 :0.084\n",
      "83.238.197.86 :0.086\n",
      "174.128.246.102 :0.086\n",
      "193.23.181.44 :0.155\n",
      "168.61.70.66 :0.155\n",
      "0.8308825492858887\n"
     ]
    }
   ],
   "source": [
    "# define various values for the number of hash functions and their range\n",
    "ds = [50,200,25]\n",
    "ws = [500,1000,700]\n",
    "\n",
    "estimates = []\n",
    "dst_ips = infected['dst_ip']\n",
    "total = len(dst_ips)\n",
    "\n",
    "for i in range(len(ds)):\n",
    "    d = ds[i]\n",
    "    w = ws[i]\n",
    "\n",
    "    # dictionaries to facilitate IP to id translation and vice versa\n",
    "    ip_dict = {}\n",
    "    rev_ip_dict = {}\n",
    "\n",
    "    # initialize count min sketch as an array of zeros\n",
    "    cm = np.zeros((d,w))\n",
    "    k = 0\n",
    "\n",
    "    coefs = []\n",
    "    consts = []\n",
    "\n",
    "    # use the hash function from the slides\n",
    "    def hash_func(coef,const,base,value):\n",
    "        return (coef*value + const)%base\n",
    "\n",
    "    # start time recording\n",
    "    start_time = time.time()\n",
    "\n",
    "    # create independent hash functions by using a different coefficient and bias term for each\n",
    "    for j in range(d):\n",
    "        temp = random.randint(1,d)\n",
    "        while temp in coefs:\n",
    "            temp = random.randint(1,d)\n",
    "        coefs.append(temp)\n",
    "        temp = random.randint(1, d)\n",
    "        while temp in consts:\n",
    "            temp = random.randint(1,d)\n",
    "        consts.append(temp)\n",
    "        \n",
    "\n",
    "    for dst_ip in dst_ips:\n",
    "        # find the id of the IP\n",
    "        if dst_ip not in ip_dict.keys():\n",
    "            ip_dict[dst_ip] = k\n",
    "            rev_ip_dict[k] = dst_ip\n",
    "            k += 1\n",
    "        temp = ip_dict[dst_ip]\n",
    "        # use the id to get a hash from each hash function and update the sketch\n",
    "        for j in range(d):\n",
    "            col = hash_func(coefs[j], consts[j], w, temp)\n",
    "            cm[j, col] = cm[j, col] + 1\n",
    "\n",
    "    # find the minimum value for each IP\n",
    "    A = np.zeros((k - 1, 1), dtype=np.int32)\n",
    "    for i in range(k - 1):\n",
    "        minimum = len(dst_ips)\n",
    "        for j in range(d):\n",
    "            temp = cm[j][hash_func(coefs[j], consts[j], w, i)]\n",
    "            if temp < minimum:\n",
    "                A[i] = temp\n",
    "                minimum = temp\n",
    "\n",
    "    # find the 10 most frequent IPs\n",
    "    out = A.flatten()\n",
    "    res = np.argsort(out)\n",
    "    ips_estimated = []\n",
    "    counts = []\n",
    "  \n",
    "    print((w,d))\n",
    "    for j in res[-10:]:\n",
    "        ips_estimated.append(rev_ip_dict[j])\n",
    "        counts.append(round(out[i]/total,3))\n",
    "        print(rev_ip_dict[j] + ' :' + str(round(out[j]/total,3)))\n",
    "        \n",
    "    \n",
    "    # stop time recording\n",
    "    elapsed_time = time.time() - start_time\n",
    "    print(elapsed_time)\n",
    "    # store results for evaluation\n",
    "    estimates.append({\n",
    "        'ips': np.array(ips_estimated),\n",
    "        'freqs': np.array(counts),\n",
    "        'time': elapsed_time,\n",
    "    })"
   ]
  },
  {
   "cell_type": "markdown",
   "metadata": {},
   "source": [
    "## Figure out true top 10"
   ]
  },
  {
   "cell_type": "code",
   "execution_count": 37,
   "metadata": {},
   "outputs": [],
   "source": [
    "# calculate the actual counts of each IP\n",
    "ips = {}\n",
    "infected_flow_count = 0\n",
    "n = 10\n",
    "with open(\"../data/capture20110811.pcap.netflow_43_.labeled\", \"r\") as ins:\n",
    "    for line in ins:\n",
    "        parts = line.split()\n",
    "        ip_port_src = parts[4].split(':')    \n",
    "        ip_src = ip_port_src[0]\n",
    "        if ip_src == infected_ip:\n",
    "            ip_port_dst = parts[6].split(':')\n",
    "            ip_dst = ip_port_dst[0]\n",
    "            if not ip_dst in ips:\n",
    "                ips[ip_dst] = 0\n",
    "            ips[ip_dst] += 1\n",
    "            infected_flow_count += 1\n",
    "\n",
    "ips_ip = np.array(list(ips.keys()))\n",
    "ips_count = np.array(list(ips.values()))\n",
    "\n",
    "# keep the top 10 IPs\n",
    "ind = np.argsort(-ips_count)[:n]\n",
    "true = {}\n",
    "true['ips'] = ips_ip[ind]\n",
    "true['freqs'] = ips_count[ind] / infected_flow_count"
   ]
  },
  {
   "cell_type": "markdown",
   "metadata": {},
   "source": [
    "## Recall"
   ]
  },
  {
   "cell_type": "code",
   "execution_count": 38,
   "metadata": {},
   "outputs": [],
   "source": [
    "'''\n",
    "freq_distance measures the distance between the frequencies in the \n",
    "ground-truth list and the frequencies in an estimated list.\n",
    "\n",
    "true, estimate: objects with two list .ips and .freqs\n",
    "'''\n",
    "def freq_distance(true, estimate):\n",
    "    estimate_map = {}\n",
    "    for i, ip in enumerate(estimate['ips']):\n",
    "        estimate_map[ip] = estimate['freqs'][i]\n",
    "    \n",
    "    score = 0\n",
    "    for i, ip in enumerate(true['ips']):\n",
    "        if ip in estimate_map:\n",
    "            score += abs(true['freqs'][i] - estimate_map[ip])\n",
    "        else:\n",
    "            score += true['freqs'][i]\n",
    "    return score   "
   ]
  },
  {
   "cell_type": "code",
   "execution_count": 39,
   "metadata": {},
   "outputs": [
    {
     "name": "stdout",
     "output_type": "stream",
     "text": [
      "(500, 50)\t0.4\t0.6152\t1.6472406387329102\n",
      "(1000, 200)\t0.5\t0.6152\t6.3459014892578125\n",
      "(700, 25)\t0.5\t0.6102\t0.8260455131530762\n"
     ]
    }
   ],
   "source": [
    "# create output for recall table\n",
    "for j in range(len(estimates)):\n",
    "    recall = float(len(np.intersect1d(true['ips'], estimates[j]['ips']))) / float(n)\n",
    "    freq_score = freq_distance(true, estimates[j])\n",
    "    print(\"{}\\t{}\\t{}\\t{}\".format((ws[j],ds[j]), recall, round(freq_score,4),estimates[j]['time']))"
   ]
  },
  {
   "cell_type": "code",
   "execution_count": null,
   "metadata": {},
   "outputs": [],
   "source": []
  }
 ],
 "metadata": {
  "kernelspec": {
   "display_name": "Python 3",
   "language": "python",
   "name": "python3"
  },
  "language_info": {
   "codemirror_mode": {
    "name": "ipython",
    "version": 3
   },
   "file_extension": ".py",
   "mimetype": "text/x-python",
   "name": "python",
   "nbconvert_exporter": "python",
   "pygments_lexer": "ipython3",
   "version": "3.6.3"
  }
 },
 "nbformat": 4,
 "nbformat_minor": 1
}
