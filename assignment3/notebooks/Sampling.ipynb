{
 "cells": [
  {
   "cell_type": "markdown",
   "metadata": {},
   "source": [
    "# Sampling"
   ]
  },
  {
   "cell_type": "markdown",
   "metadata": {},
   "source": [
    "## Imports"
   ]
  },
  {
   "cell_type": "code",
   "execution_count": 1,
   "metadata": {},
   "outputs": [],
   "source": [
    "import pandas as pd\n",
    "import numpy as np"
   ]
  },
  {
   "cell_type": "markdown",
   "metadata": {},
   "source": [
    "## Reservoir update function"
   ]
  },
  {
   "cell_type": "code",
   "execution_count": 2,
   "metadata": {},
   "outputs": [],
   "source": [
    "'''\n",
    "store_smallest updates the reservoir, it only stores those ips in the\n",
    "reservoir that have the smallest tag associated.\n",
    "'''\n",
    "def store_smallest(reservoir, tags, new_ip, new_tag, k):\n",
    "    reservoir = np.append(reservoir, new_ip)\n",
    "    tags = np.append(tags, new_tag)\n",
    "        \n",
    "    ind = np.argsort(tags)[:k]\n",
    "    return (reservoir[ind], tags[ind])"
   ]
  },
  {
   "cell_type": "markdown",
   "metadata": {},
   "source": [
    "## MIN-WISE sampling"
   ]
  },
  {
   "cell_type": "markdown",
   "metadata": {},
   "source": [
    "### Parameters"
   ]
  },
  {
   "cell_type": "code",
   "execution_count": 3,
   "metadata": {},
   "outputs": [],
   "source": [
    "data_file = '../data/capture20110811.pcap.netflow_43_.labeled'\n",
    "infected = '147.32.84.165'\n",
    "n = 10\n",
    "k_s = [100, 1000, 5000]"
   ]
  },
  {
   "cell_type": "markdown",
   "metadata": {},
   "source": [
    "### Read data file"
   ]
  },
  {
   "cell_type": "code",
   "execution_count": 4,
   "metadata": {},
   "outputs": [],
   "source": [
    "with open(data_file, \"r\") as ins:\n",
    "    lines = ins.readlines()"
   ]
  },
  {
   "cell_type": "markdown",
   "metadata": {},
   "source": [
    "### Compute estimates for different k"
   ]
  },
  {
   "cell_type": "code",
   "execution_count": 12,
   "metadata": {},
   "outputs": [],
   "source": [
    "import time\n",
    "\n",
    "# run 10 iterations to average the run-time\n",
    "iterations = 10\n",
    "run_times = np.zeros([iterations,len(k_s)])\n",
    "\n",
    "for it in range(iterations):\n",
    "    estimates = []\n",
    "    for k_i, k in enumerate(k_s):\n",
    "        reservoir = np.array([])\n",
    "        tags = np.array([])\n",
    "\n",
    "        start = time.time()\n",
    "        for line in lines:\n",
    "            parts = line.split()\n",
    "            ip_port_src = parts[4].split(':')\n",
    "            ip_src = ip_port_src[0]\n",
    "            \n",
    "            # if this is from our infected host\n",
    "            if ip_src == infected:\n",
    "                ip_port_dst = parts[6].split(':')\n",
    "                ip_dst = ip_port_dst[0]\n",
    "                \n",
    "                # generate tag\n",
    "                r = np.random.rand()\n",
    "                # obtain new reservoir\n",
    "                (reservoir, tags) = store_smallest(reservoir, tags, ip_dst, r, k)\n",
    "\n",
    "        stop = time.time()\n",
    "        run_times[it][k_i] = stop - start\n",
    "\n",
    "        # only use the top 10 most frequent\n",
    "        ips_estimated, counts = np.unique(reservoir, return_counts=True)\n",
    "        ind = np.argsort(-counts)[:n]\n",
    "        estimates.append({\n",
    "            'ips': ips_estimated[ind],\n",
    "            'freqs': counts[ind] / k\n",
    "        })    "
   ]
  },
  {
   "cell_type": "markdown",
   "metadata": {},
   "source": [
    "## Obtain ground-truth"
   ]
  },
  {
   "cell_type": "code",
   "execution_count": 6,
   "metadata": {},
   "outputs": [],
   "source": [
    "ips = {}\n",
    "infected_flow_count = 0\n",
    "for line in lines:\n",
    "    parts = line.split()\n",
    "    ip_port_src = parts[4].split(':')\n",
    "    ip_src = ip_port_src[0]\n",
    "\n",
    "    # if this is from the infected host\n",
    "    if ip_src == infected:\n",
    "        ip_port_dst = parts[6].split(':')\n",
    "        ip_dst = ip_port_dst[0]\n",
    "        \n",
    "        # if the map entry doesn't exist yet\n",
    "        if not ip_dst in ips:\n",
    "            ips[ip_dst] = 0\n",
    "            \n",
    "        # add a count to the destination ip\n",
    "        ips[ip_dst] += 1\n",
    "        infected_flow_count += 1"
   ]
  },
  {
   "cell_type": "code",
   "execution_count": 13,
   "metadata": {},
   "outputs": [],
   "source": [
    "ips_ip = np.array(list(ips.keys()))\n",
    "ips_count = np.array(list(ips.values()))\n",
    "\n",
    "ind = np.argsort(-ips_count)[:n]\n",
    "true = {}\n",
    "true['ips'] = ips_ip[ind]\n",
    "true['freqs'] = ips_count[ind] / infected_flow_count"
   ]
  },
  {
   "cell_type": "markdown",
   "metadata": {},
   "source": [
    "## Build estimate table"
   ]
  },
  {
   "cell_type": "code",
   "execution_count": 14,
   "metadata": {},
   "outputs": [
    {
     "name": "stdout",
     "output_type": "stream",
     "text": [
      "1\t193.23.181.44\t0.136\t193.23.181.44\t0.12\t193.23.181.44\t0.142\t193.23.181.44\t0.145\n",
      "2\t174.128.246.102\t0.076\t72.20.15.61\t0.1\t174.37.196.55\t0.082\t174.37.196.55\t0.073\n",
      "3\t174.37.196.55\t0.074\t174.128.246.102\t0.09\t67.19.72.206\t0.067\t174.128.246.102\t0.073\n",
      "4\t67.19.72.206\t0.069\t174.37.196.55\t0.09\t174.128.246.102\t0.066\t72.20.15.61\t0.066\n",
      "5\t72.20.15.61\t0.066\t173.236.31.226\t0.07\t72.20.15.61\t0.061\t67.19.72.206\t0.06\n",
      "6\t173.236.31.226\t0.038\t67.19.72.206\t0.06\t46.4.36.120\t0.043\t184.154.89.154\t0.04\n",
      "7\t184.154.89.154\t0.037\t46.4.36.120\t0.05\t173.236.31.226\t0.041\t46.4.36.120\t0.035\n",
      "8\t46.4.36.120\t0.036\t212.117.171.138\t0.03\t184.154.89.154\t0.038\t173.236.31.226\t0.035\n",
      "9\t147.32.80.9\t0.017\t209.85.227.27\t0.03\t147.32.80.9\t0.019\t217.163.21.37\t0.016\n",
      "10\t217.163.21.37\t0.015\t217.163.21.34\t0.02\t217.163.21.37\t0.019\t147.32.80.9\t0.016\n"
     ]
    }
   ],
   "source": [
    "for i in range(n):\n",
    "    line = [i+1, true['ips'][i], round(true['freqs'][i],3)]\n",
    "    for j,k in enumerate(k_s):\n",
    "        line.append(estimates[j]['ips'][i])\n",
    "        line.append(round(estimates[j]['freqs'][i],3))\n",
    "    print(\"\\t\".join([str(x) for x in line]))"
   ]
  },
  {
   "cell_type": "markdown",
   "metadata": {},
   "source": [
    "## Performance per k"
   ]
  },
  {
   "cell_type": "markdown",
   "metadata": {},
   "source": [
    "### Frequency distance function"
   ]
  },
  {
   "cell_type": "code",
   "execution_count": 9,
   "metadata": {},
   "outputs": [],
   "source": [
    "'''\n",
    "freq_distance measures the distance between the frequencies in the \n",
    "ground-truth list and the frequencies in an estimated list.\n",
    "\n",
    "true, estimate: objects with two list .ips and .freqs\n",
    "'''\n",
    "def freq_distance(true, estimate):\n",
    "    estimate_map = {}\n",
    "    for i, ip in enumerate(estimate['ips']):\n",
    "        estimate_map[ip] = estimate['freqs'][i]\n",
    "    score = 0\n",
    "    for i, ip in enumerate(true['ips']):\n",
    "        if ip in estimate_map:\n",
    "            score += abs(true['freqs'][i] - estimate_map[ip])\n",
    "        else:\n",
    "            score += true['freqs'][i]\n",
    "    return score"
   ]
  },
  {
   "cell_type": "markdown",
   "metadata": {},
   "source": [
    "### Print recall, freq_distance and runtime"
   ]
  },
  {
   "cell_type": "code",
   "execution_count": 10,
   "metadata": {},
   "outputs": [
    {
     "name": "stdout",
     "output_type": "stream",
     "text": [
      "k\trecall\tfreq distance\truntime\n",
      "100\t0.7\t0.0\t7.976 s\n",
      "1000\t0.9\t0.0\t8.808 s\n",
      "5000\t1.0\t0.0\t13.139 s\n"
     ]
    }
   ],
   "source": [
    "print(\"\\t\".join(['k','recall','freq distance','runtime']))\n",
    "for j,k in enumerate(k_s):\n",
    "    recall = float(len(np.intersect1d(true['ips'], estimates[j]['ips']))) / float(n)\n",
    "    freq_score = round(freq_distance(true, estimates[j]),4)\n",
    "    run_time = round(np.mean(run_times,axis=0)[j],3)\n",
    "    print(\"{}\\t{}\\t{}\\t{} s\".format(k, recall, freq_score, run_time))"
   ]
  },
  {
   "cell_type": "code",
   "execution_count": null,
   "metadata": {},
   "outputs": [],
   "source": []
  }
 ],
 "metadata": {
  "kernelspec": {
   "display_name": "Python 2",
   "language": "python",
   "name": "python2"
  },
  "language_info": {
   "codemirror_mode": {
    "name": "ipython",
    "version": 2
   },
   "file_extension": ".py",
   "mimetype": "text/x-python",
   "name": "python",
   "nbconvert_exporter": "python",
   "pygments_lexer": "ipython2",
   "version": "2.7.14"
  }
 },
 "nbformat": 4,
 "nbformat_minor": 2
}
