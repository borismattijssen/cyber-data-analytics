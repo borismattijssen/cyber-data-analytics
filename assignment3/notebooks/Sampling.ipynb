{
 "cells": [
  {
   "cell_type": "markdown",
   "metadata": {},
   "source": [
    "# Sampling"
   ]
  },
  {
   "cell_type": "markdown",
   "metadata": {},
   "source": [
    "## Imports"
   ]
  },
  {
   "cell_type": "code",
   "execution_count": 2,
   "metadata": {},
   "outputs": [],
   "source": [
    "import pandas as pd\n",
    "import numpy as np"
   ]
  },
  {
   "cell_type": "markdown",
   "metadata": {},
   "source": [
    "## Reservoir update function"
   ]
  },
  {
   "cell_type": "code",
   "execution_count": 24,
   "metadata": {},
   "outputs": [],
   "source": [
    "'''\n",
    "store_smallest updates the reservoir, it only stores those ips in the\n",
    "reservoir that have the smallest tag associated.\n",
    "'''\n",
    "def store_smallest(reservoir, tags, new_ip, new_tag, k):\n",
    "    reservoir = np.append(reservoir, new_ip)\n",
    "    tags = np.append(tags, new_tag)\n",
    "        \n",
    "    ind = np.argsort(tags)[:k]\n",
    "    return (reservoir[ind], tags[ind])"
   ]
  },
  {
   "cell_type": "markdown",
   "metadata": {},
   "source": [
    "## MIN-WISE sampling"
   ]
  },
  {
   "cell_type": "markdown",
   "metadata": {},
   "source": [
    "### Parameters"
   ]
  },
  {
   "cell_type": "code",
   "execution_count": 25,
   "metadata": {},
   "outputs": [],
   "source": [
    "data_file = '../data/capture20110811.pcap.netflow_43_.labeled'\n",
    "infected = '147.32.84.165'\n",
    "n = 10\n",
    "k_s = [100, 1000, 5000]"
   ]
  },
  {
   "cell_type": "markdown",
   "metadata": {},
   "source": [
    "### Read data file"
   ]
  },
  {
   "cell_type": "code",
   "execution_count": 26,
   "metadata": {},
   "outputs": [],
   "source": [
    "with open(data_file, \"r\") as ins:\n",
    "    lines = ins.readlines()"
   ]
  },
  {
   "cell_type": "markdown",
   "metadata": {},
   "source": [
    "### Compute estimates for different k"
   ]
  },
  {
   "cell_type": "code",
   "execution_count": 46,
   "metadata": {},
   "outputs": [],
   "source": [
    "import time\n",
    "\n",
    "# run 10 iterations to average the run-time\n",
    "iterations = 10\n",
    "run_times = np.zeros([iterations,len(k_s)])\n",
    "\n",
    "for it in range(iterations):\n",
    "    estimates = []\n",
    "    for k_i, k in enumerate(k_s):\n",
    "        reservoir = np.array([])\n",
    "        tags = np.array([])\n",
    "\n",
    "        start = time.time()\n",
    "        for line in lines:\n",
    "            parts = line.split()\n",
    "            ip_port_src = parts[4].split(':')\n",
    "            ip_src = ip_port_src[0]\n",
    "            \n",
    "            # if this is from our infected host\n",
    "            if ip_src == infected:\n",
    "                ip_port_dst = parts[6].split(':')\n",
    "                ip_dst = ip_port_dst[0]\n",
    "                \n",
    "                # generate tag\n",
    "                r = np.random.rand()\n",
    "                # obtain new reservoir\n",
    "                (reservoir, tags) = store_smallest(reservoir, tags, ip_dst, r, k)\n",
    "\n",
    "        stop = time.time()\n",
    "        run_times[it][k_i] = stop - start\n",
    "\n",
    "        # only use the top 10 most frequent\n",
    "        ips_estimated, counts = np.unique(reservoir, return_counts=True)\n",
    "        ind = np.argsort(-counts)[:n]\n",
    "        estimates.append({\n",
    "            'ips': ips_estimated[ind],\n",
    "            'freqs': counts[ind] / k\n",
    "        })    "
   ]
  },
  {
   "cell_type": "markdown",
   "metadata": {},
   "source": [
    "## Obtain ground-truth"
   ]
  },
  {
   "cell_type": "code",
   "execution_count": 22,
   "metadata": {},
   "outputs": [],
   "source": [
    "ips = {}\n",
    "infected_flow_count = 0\n",
    "for line in lines:\n",
    "    parts = line.split()\n",
    "    ip_port_src = parts[4].split(':')\n",
    "    ip_src = ip_port_src[0]\n",
    "\n",
    "    # if this is from the infected host\n",
    "    if ip_src == infected:\n",
    "        ip_port_dst = parts[6].split(':')\n",
    "        ip_dst = ip_port_dst[0]\n",
    "        \n",
    "        # if the map entry doesn't exist yet\n",
    "        if not ip_dst in ips:\n",
    "            ips[ip_dst] = 0\n",
    "            \n",
    "        # add a count to the destination ip\n",
    "        ips[ip_dst] += 1\n",
    "        infected_flow_count += 1"
   ]
  },
  {
   "cell_type": "code",
   "execution_count": 34,
   "metadata": {},
   "outputs": [],
   "source": [
    "ips_ip = np.array(list(ips.keys()))\n",
    "ips_count = np.array(list(ips.values()))\n",
    "\n",
    "ind = np.argsort(-ips_count)[:n]\n",
    "true = {}\n",
    "true['ips'] = ips_ip[ind]\n",
    "true['freqs'] = ips_count[ind] / infected_flow_count"
   ]
  },
  {
   "cell_type": "markdown",
   "metadata": {},
   "source": [
    "## Build estimate table"
   ]
  },
  {
   "cell_type": "code",
   "execution_count": 55,
   "metadata": {},
   "outputs": [
    {
     "name": "stdout",
     "output_type": "stream",
     "text": [
      "1\t193.23.181.44\t0.136\t193.23.181.44\t0.13\t193.23.181.44\t0.126\t193.23.181.44\t0.136\n",
      "2\t174.128.246.102\t0.076\t174.37.196.55\t0.08\t174.37.196.55\t0.089\t174.128.246.102\t0.081\n",
      "3\t174.37.196.55\t0.074\t72.20.15.61\t0.05\t67.19.72.206\t0.071\t174.37.196.55\t0.079\n",
      "4\t67.19.72.206\t0.069\t173.236.31.226\t0.05\t174.128.246.102\t0.067\t67.19.72.206\t0.068\n",
      "5\t72.20.15.61\t0.066\t67.19.72.206\t0.05\t72.20.15.61\t0.061\t72.20.15.61\t0.059\n",
      "6\t173.236.31.226\t0.038\t217.163.21.37\t0.04\t173.236.31.226\t0.042\t184.154.89.154\t0.041\n",
      "7\t184.154.89.154\t0.037\t174.128.246.102\t0.04\t184.154.89.154\t0.037\t173.236.31.226\t0.036\n",
      "8\t46.4.36.120\t0.036\t46.4.36.120\t0.03\t46.4.36.120\t0.033\t46.4.36.120\t0.034\n",
      "9\t147.32.80.9\t0.017\t94.100.28.114\t0.03\t217.163.21.36\t0.017\t147.32.80.9\t0.016\n",
      "10\t217.163.21.37\t0.015\t184.82.147.252\t0.03\t74.6.136.244\t0.012\t217.163.21.37\t0.014\n"
     ]
    }
   ],
   "source": [
    "for i in range(n):\n",
    "    line = [i+1, true['ips'][i], round(true['freqs'][i],3)]\n",
    "    for j,k in enumerate(k_s):\n",
    "        line.append(estimates[j]['ips'][i])\n",
    "        line.append(round(estimates[j]['freqs'][i],3))\n",
    "    print(\"\\t\".join([str(x) for x in line]))"
   ]
  },
  {
   "cell_type": "markdown",
   "metadata": {},
   "source": [
    "## Performance per k"
   ]
  },
  {
   "cell_type": "markdown",
   "metadata": {},
   "source": [
    "### Frequency distance function"
   ]
  },
  {
   "cell_type": "code",
   "execution_count": 56,
   "metadata": {},
   "outputs": [],
   "source": [
    "'''\n",
    "freq_distance measures the distance between the frequencies in the \n",
    "ground-truth list and the frequencies in an estimated list.\n",
    "\n",
    "true, estimate: objects with two list .ips and .freqs\n",
    "'''\n",
    "def freq_distance(true, estimate):\n",
    "    estimate_map = {}\n",
    "    for i, ip in enumerate(estimate['ips']):\n",
    "        estimate_map[ip] = estimate['freqs'][i]\n",
    "    score = 0\n",
    "    for i, ip in enumerate(true['ips']):\n",
    "        if ip in estimate_map:\n",
    "            score += abs(true['freqs'][i] - estimate_map[ip])\n",
    "        else:\n",
    "            score += true['freqs'][i]\n",
    "    return score"
   ]
  },
  {
   "cell_type": "markdown",
   "metadata": {},
   "source": [
    "### Print recall, freq_distance and runtime"
   ]
  },
  {
   "cell_type": "code",
   "execution_count": 57,
   "metadata": {},
   "outputs": [
    {
     "name": "stdout",
     "output_type": "stream",
     "text": [
      "k\trecall\tfreq distance\truntime\n",
      "100\t0.8\t0.1798\t16.748 s\n",
      "1000\t0.8\t0.0802\t19.553 s\n",
      "5000\t1.0\t0.0279\t32.331 s\n"
     ]
    }
   ],
   "source": [
    "print(\"\\t\".join(['k','recall','freq distance','runtime']))\n",
    "for j,k in enumerate(k_s):\n",
    "    recall = float(len(np.intersect1d(true['ips'], estimates[j]['ips']))) / float(n)\n",
    "    freq_score = round(freq_distance(true, estimates[j]),4)\n",
    "    run_time = round(np.mean(run_times,axis=0)[j],3)\n",
    "    print(\"{}\\t{}\\t{}\\t{} s\".format(k, recall, freq_score, run_time))"
   ]
  }
 ],
 "metadata": {
  "kernelspec": {
   "display_name": "Python 3",
   "language": "python",
   "name": "python3"
  },
  "language_info": {
   "codemirror_mode": {
    "name": "ipython",
    "version": 3
   },
   "file_extension": ".py",
   "mimetype": "text/x-python",
   "name": "python",
   "nbconvert_exporter": "python",
   "pygments_lexer": "ipython3",
   "version": "3.6.3"
  }
 },
 "nbformat": 4,
 "nbformat_minor": 2
}
